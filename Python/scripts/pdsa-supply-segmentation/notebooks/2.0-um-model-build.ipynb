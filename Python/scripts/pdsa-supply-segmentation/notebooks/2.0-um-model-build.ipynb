{
 "cells": [
  {
   "cell_type": "markdown",
   "id": "3b91b778",
   "metadata": {},
   "source": [
    "# Import processed data from csv and building clustering model"
   ]
  },
  {
   "cell_type": "markdown",
   "id": "4dcb203e",
   "metadata": {},
   "source": [
    "## Imports and global declarations"
   ]
  },
  {
   "cell_type": "code",
   "execution_count": 1,
   "id": "da8ddc6a",
   "metadata": {},
   "outputs": [],
   "source": [
    "!pip3 freeze > \"../requirements.txt\"\n",
    "#!pip3 install -r \"../requirements.txt\"  # giving some error\n",
    "\n",
    "from google.cloud import bigquery\n",
    "import pandas as pd\n",
    "import numpy as np\n",
    "import pandas_gbq\n",
    "import copy\n",
    "import glob\n",
    "import re\n",
    "import pickle\n",
    "import datetime as dt\n",
    "from datetime import timezone\n",
    "from sklearn.preprocessing import StandardScaler\n",
    "from sklearn.impute import KNNImputer\n",
    "from sklearn.cluster import KMeans\n",
    "\n",
    "pd.set_option('display.max_rows', 500)\n",
    "pd.set_option('display.max_columns', 500) \n"
   ]
  },
  {
   "cell_type": "markdown",
   "id": "b781d345",
   "metadata": {},
   "source": [
    "## Reading processed data from a csv file"
   ]
  },
  {
   "cell_type": "code",
   "execution_count": 25,
   "id": "b5756ddd",
   "metadata": {},
   "outputs": [
    {
     "name": "stdout",
     "output_type": "stream",
     "text": [
      "Loading csv file from ../data/processed/1.2-um-data-process-all-01-08-22.csv\n"
     ]
    }
   ],
   "source": [
    "# . is any character except new line, he.{2} all should match where we have 2 characters after he\n",
    "# .*he mean any number of character before he\n",
    "a = [re.search(r'\\d{2}-\\d{2}-\\d{2}', x).group(0) for x in glob.glob(\"../data/processed/1.2-um-data-process-all*\")]\n",
    "b = sorted([dt.datetime.strptime(x,\"%d-%m-%y\") for x in a])\n",
    "file_path=[val for val in glob.glob(\"../data/processed/1.2-um-data-process-all*\") if re.match('.*' + b[-1].strftime('%d-%m-%y'),val)][0]\n",
    "print(f\"Loading csv file from {file_path}\")\n",
    "global_data = pd.read_csv(file_path, index_col=0)"
   ]
  },
  {
   "cell_type": "markdown",
   "id": "d1119ce4",
   "metadata": {},
   "source": [
    "##  Building knn model and storing model, label and clustered data in local files"
   ]
  },
  {
   "cell_type": "code",
   "execution_count": 26,
   "id": "d670fee9",
   "metadata": {},
   "outputs": [],
   "source": [
    "X = global_data.loc[:, ~global_data.columns.isin(['dev_id', 'paying_cust'])]\n",
    "Y = global_data['paying_cust']\n",
    "dev_id = global_data['dev_id']                                      \n",
    "kmeanModel = KMeans(n_clusters=5, init='k-means++', verbose=0, random_state=13, n_init=20)\n",
    "kmeanModel = kmeanModel.fit(X)\n",
    "global_data['cluster'] = kmeanModel.predict(X)\n",
    "#X['cluster2'] = kmeanModel.labels_\n",
    "#sum(X['label'] == X['cluster'])\n",
    "\n",
    "now = dt.datetime.now()\n",
    "current_time = now.strftime(\"%d-%m-%y\") # %H:%M:%S\")\n",
    "filename = '../models/2.0-knn-clustering-model-' + current_time+ '.sav'\n",
    "pickle.dump(kmeanModel, open(filename, 'wb'))\n",
    "\n",
    "\n",
    "cluster_info = global_data.groupby('cluster').agg({'paying_cust':'mean'}).reset_index().sort_values(by='paying_cust', ascending=True).reset_index()\n",
    "cluster_label = {cluster_info.at[4, 'cluster']:'Elite',\n",
    "                 cluster_info.at[3, 'cluster']:'High Quality',\n",
    "                 cluster_info.at[2, 'cluster']:'Average',\n",
    "                 cluster_info.at[1, 'cluster']:'Low Quality',\n",
    "                 cluster_info.at[0, 'cluster']:'Low Chance'}\n",
    "\n",
    "filename = '../models/2.0-knn-cluster-label-' + current_time+ '.pckl' \n",
    "pickle.dump(cluster_label, open(filename, 'wb'))\n",
    "\n",
    "global_data['label'] = global_data['cluster'].map(cluster_label)\n",
    "global_data.to_csv('../data/processed/' + 'ml_clustered_data ' + current_time+'.csv')\n"
   ]
  },
  {
   "cell_type": "code",
   "execution_count": 22,
   "id": "d5af6ae3",
   "metadata": {},
   "outputs": [],
   "source": []
  },
  {
   "cell_type": "code",
   "execution_count": null,
   "id": "93ee2cdb",
   "metadata": {},
   "outputs": [],
   "source": []
  },
  {
   "cell_type": "code",
   "execution_count": null,
   "id": "9b658baa",
   "metadata": {},
   "outputs": [],
   "source": []
  },
  {
   "cell_type": "code",
   "execution_count": null,
   "id": "6b16357f",
   "metadata": {},
   "outputs": [],
   "source": []
  },
  {
   "cell_type": "code",
   "execution_count": null,
   "id": "3c5aa0b0",
   "metadata": {},
   "outputs": [],
   "source": []
  }
 ],
 "metadata": {
  "kernelspec": {
   "display_name": "Python 3 (ipykernel)",
   "language": "python",
   "name": "python3"
  },
  "language_info": {
   "codemirror_mode": {
    "name": "ipython",
    "version": 3
   },
   "file_extension": ".py",
   "mimetype": "text/x-python",
   "name": "python",
   "nbconvert_exporter": "python",
   "pygments_lexer": "ipython3",
   "version": "3.9.5"
  }
 },
 "nbformat": 4,
 "nbformat_minor": 5
}
