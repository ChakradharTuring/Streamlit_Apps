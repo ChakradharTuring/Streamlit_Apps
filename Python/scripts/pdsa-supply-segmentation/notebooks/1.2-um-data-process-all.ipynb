{
 "cells": [
  {
   "cell_type": "markdown",
   "id": "162fc801",
   "metadata": {},
   "source": [
    "# Import data from csv and store in local after preprocessing"
   ]
  },
  {
   "cell_type": "markdown",
   "id": "39048d24",
   "metadata": {},
   "source": [
    "## Imports and global declarations"
   ]
  },
  {
   "cell_type": "code",
   "execution_count": 2,
   "id": "5d284564",
   "metadata": {},
   "outputs": [],
   "source": [
    "!pip3 freeze > \"../requirements.txt\"\n",
    "#!pip3 install -r \"../requirements.txt\"  # giving some error\n",
    "\n",
    "from google.cloud import bigquery\n",
    "import pandas as pd\n",
    "import numpy as np\n",
    "import pandas_gbq\n",
    "import copy\n",
    "import glob\n",
    "import re\n",
    "import pickle\n",
    "import datetime as dt\n",
    "from datetime import timezone\n",
    "from sklearn.preprocessing import StandardScaler\n",
    "from sklearn.impute import KNNImputer\n",
    "from sklearn.cluster import KMeans\n",
    "\n",
    "pd.set_option('display.max_rows', 500)\n",
    "pd.set_option('display.max_columns', 500) \n"
   ]
  },
  {
   "cell_type": "markdown",
   "id": "f5d0ac6a",
   "metadata": {},
   "source": [
    "## Load raw data from a csv"
   ]
  },
  {
   "cell_type": "code",
   "execution_count": 3,
   "id": "7287e688",
   "metadata": {},
   "outputs": [
    {
     "name": "stdout",
     "output_type": "stream",
     "text": [
      "Loading csv file from ../data/raw/1.0-um-data-prep-all-01-08-22.csv\n"
     ]
    },
    {
     "name": "stderr",
     "output_type": "stream",
     "text": [
      "/tmp/ipykernel_94/3697240132.py:7: DtypeWarning: Columns (31) have mixed types. Specify dtype option on import or set low_memory=False.\n",
      "  global_data = pd.read_csv(file_path, index_col=0)\n"
     ]
    }
   ],
   "source": [
    "# . is any character except new line, he.{2} all should match where we have 2 characters after he\n",
    "# .*he mean any number of character before he\n",
    "a = [re.search(r'\\d{2}-\\d{2}-\\d{2}', x).group(0) for x in glob.glob(\"../data/raw/1.0*\")]\n",
    "b = sorted([dt.datetime.strptime(x,\"%d-%m-%y\") for x in a])\n",
    "file_path=[val for val in glob.glob(\"../data/raw/1.0*\") if re.match('.*' + b[-1].strftime('%d-%m-%y'),val)][0]\n",
    "print(f\"Loading csv file from {file_path}\")\n",
    "global_data = pd.read_csv(file_path, index_col=0)"
   ]
  },
  {
   "cell_type": "markdown",
   "id": "d3df5dba",
   "metadata": {},
   "source": [
    "## Preprocessing, numerical coding , normalization, knn-imputing"
   ]
  },
  {
   "cell_type": "code",
   "execution_count": 4,
   "id": "72f1607c",
   "metadata": {},
   "outputs": [
    {
     "name": "stdout",
     "output_type": "stream",
     "text": [
      "(49337, 19) (49337, 1) (49337, 1)\n"
     ]
    },
    {
     "data": {
      "text/plain": [
       "acc_lci_score            0\n",
       "seniority_score          0\n",
       "num_challenges           0\n",
       "passed_num_challenges    0\n",
       "total_problems           0\n",
       "attempted_problems       0\n",
       "num_correct              0\n",
       "mean_dev_percentile      0\n",
       "num_passed_stack         0\n",
       "num_passed_skill         0\n",
       "characters_in_reume      0\n",
       "years_of_experience      0\n",
       "top_skill_supply         0\n",
       "top_skill_demand         0\n",
       "top_stack_supply         0\n",
       "correct_per_challenge    0\n",
       "correct_per_questions    0\n",
       "english_communication    0\n",
       "quiz_answer              0\n",
       "dtype: int64"
      ]
     },
     "execution_count": 4,
     "metadata": {},
     "output_type": "execute_result"
    }
   ],
   "source": [
    "predictors = ['acc_lci_score', 'seniority_score', 'num_challenges', 'passed_num_challenges','total_problems','attempted_problems','num_correct','mean_dev_percentile','num_passed_stack', 'num_passed_skill', 'characters_in_reume','years_of_experience','top_skill_supply','top_skill_demand', 'top_stack_supply', 'correct_per_challenge', 'correct_per_questions', 'english_communication','quiz_answer']\n",
    "target     = ['paying_cust'] \n",
    "dev_id     = ['dev_id']\n",
    "#ml_data = global_data.loc[~global_data['num_challenges'].isna(),].copy()\n",
    "ml_data_v2 = global_data[predictors+target+dev_id]\n",
    "num_cols   = [col for col in ml_data_v2.columns if ml_data_v2[col].dtype!='object']\n",
    "obj_cols   = [col for col in ml_data_v2.columns if ml_data_v2[col].dtype=='object']\n",
    "\n",
    "X      = ml_data_v2[predictors].copy()\n",
    "Y      = ml_data_v2[target]\n",
    "dev_id = ml_data_v2[dev_id]\n",
    "X_copy = copy.deepcopy(X)\n",
    "\n",
    "for col in (obj_cols):\n",
    "    X[col] = X[col].astype('category')\n",
    "    X[col] = X[col].cat.codes\n",
    "\n",
    "print(X.shape, Y.shape, dev_id.shape)\n",
    "\n",
    "scaler = StandardScaler().fit(X)\n",
    "rescaledX = scaler.transform(X)\n",
    "\n",
    "knn_imp = KNNImputer(n_neighbors=5, add_indicator=False)\n",
    "knn_imp.fit(rescaledX)\n",
    "X_final = pd.DataFrame(knn_imp.transform(rescaledX))\n",
    "X_final.columns = predictors\n"
   ]
  },
  {
   "cell_type": "markdown",
   "id": "214390f9",
   "metadata": {},
   "source": [
    "## Stroing KNNImputer model"
   ]
  },
  {
   "cell_type": "code",
   "execution_count": 5,
   "id": "ef2cb929",
   "metadata": {},
   "outputs": [],
   "source": [
    "now = dt.datetime.now()\n",
    "current_time = now.strftime(\"%d-%m-%y\") # %H:%M:%S\")\n",
    "filename = '../models/1.2-knnmputer-model-' + current_time+ '.sav'\n",
    "pickle.dump(knn_imp, open(filename, 'wb'))"
   ]
  },
  {
   "cell_type": "markdown",
   "id": "aa5a02e5",
   "metadata": {},
   "source": [
    "## Store and version process data"
   ]
  },
  {
   "cell_type": "code",
   "execution_count": 6,
   "id": "e480e0f1",
   "metadata": {},
   "outputs": [
    {
     "name": "stdout",
     "output_type": "stream",
     "text": [
      "Processed data for all devs stored in a csv with shape (49337, 21)\n"
     ]
    }
   ],
   "source": [
    "data_dump = pd.concat([dev_id, Y, X_final], axis=1)\n",
    "\n",
    "if data_dump['dev_id'].duplicated().any():\n",
    "    print('Processed Data All has duplicated dev_id')\n",
    "else:\n",
    "    print(f\"Processed data for all devs stored in a csv with shape {data_dump.shape}\")\n",
    "    now = dt.datetime.now()\n",
    "    current_time = now.strftime(\"%d-%m-%y\") # %H:%M:%S\")\n",
    "    data_dump.to_csv('../data/processed/' + '1.2-um-data-process-all-' + current_time+'.csv')"
   ]
  },
  {
   "cell_type": "code",
   "execution_count": null,
   "id": "a1246bbf",
   "metadata": {},
   "outputs": [],
   "source": []
  },
  {
   "cell_type": "code",
   "execution_count": null,
   "id": "e7598dcc",
   "metadata": {},
   "outputs": [],
   "source": []
  }
 ],
 "metadata": {
  "kernelspec": {
   "display_name": "Python 3 (ipykernel)",
   "language": "python",
   "name": "python3"
  },
  "language_info": {
   "codemirror_mode": {
    "name": "ipython",
    "version": 3
   },
   "file_extension": ".py",
   "mimetype": "text/x-python",
   "name": "python",
   "nbconvert_exporter": "python",
   "pygments_lexer": "ipython3",
   "version": "3.9.5"
  }
 },
 "nbformat": 4,
 "nbformat_minor": 5
}
