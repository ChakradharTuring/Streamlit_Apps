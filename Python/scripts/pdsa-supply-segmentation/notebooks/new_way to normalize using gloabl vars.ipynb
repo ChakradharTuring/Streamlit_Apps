{
 "cells": [
  {
   "cell_type": "code",
   "execution_count": null,
   "id": "00ad7ade",
   "metadata": {},
   "outputs": [],
   "source": []
  },
  {
   "cell_type": "code",
   "execution_count": null,
   "id": "e2114289",
   "metadata": {},
   "outputs": [],
   "source": [
    "\n",
    "predict_data #raw data for new devs coming from 1.1\n",
    "\n",
    "predictors = ['acc_lci_score', 'seniority_score', 'num_challenges', 'passed_num_challenges','total_problems','attempted_problems','num_correct','mean_dev_percentile','num_passed_stack', 'num_passed_skill', 'characters_in_reume','years_of_experience','top_skill_supply','top_skill_demand', 'top_stack_supply', 'correct_per_challenge', 'correct_per_questions', 'english_communication','quiz_answer']\n",
    "target     = ['paying_cust'] \n",
    "dev_id     = ['dev_id']\n",
    "\n",
    "\n",
    "ml_data_v2 = predict_data[predictors+target+dev_id]\n",
    "num_cols   = [col for col in ml_data_v2.columns if ml_data_v2[col].dtype!='object']\n",
    "obj_cols   = [col for col in ml_data_v2.columns if ml_data_v2[col].dtype=='object']\n",
    "X      = ml_data_v2[predictors].copy()\n",
    "Y      = ml_data_v2[target]\n",
    "dev_id = ml_data_v2[dev_id]\n",
    "\n",
    "\n",
    "for col in (obj_cols):\n",
    "    X[col] = X[col].astype('category')  # or use map may be if we get dict\n",
    "    X[col] = X[col].cat.codes\n",
    "\n",
    "\n",
    "\n",
    "#global_means = X.mean()\n",
    "#global_std = dict(X.std())\n",
    "#global_vars = {'global_means' : global_means, 'global_std' : global_std}\n",
    "#global_vars = {'global_means' : global_means, 'global_std' : global_std}\n",
    "#pickle.dump(global_vars, open('global_vars_2020-08-05.sav', 'wb'))\n",
    "\n",
    "global_vars = pickle.load(open('global_vars_2020-08-05.sav', 'rb'))\n",
    "global_means = global_vars['global_means']\n",
    "global_std = global_vars['global_std']\n",
    "\n",
    "for i in X.columns:\n",
    "    X[i] = (X[i]-global_means[i])/global_std[i]\n",
    "    \n",
    "norm_data = pd.concat([dev_id, Y, X],axis=1)\n",
    "# on norm_data\n",
    "\n",
    "a = [re.search(r'\\d{2}-\\d{2}-\\d{2}', x).group(0) for x in glob.glob(\"../models/1.2-knnmputer-model*\")]\n",
    "b = sorted([dt.datetime.strptime(x,\"%d-%m-%y\") for x in a])\n",
    "knnimpu_path=[val for val in glob.glob(\"../models/1.2-knnmputer-model*\") if re.match('.*' + b[-1].strftime('%d-%m-%y'),val)][0]\n",
    "loaded_model = pickle.load(open(knnimpu_path, 'rb'))\n",
    "X_final = pd.DataFrame(loaded_model.transform(norm_predict_data[predictors].to_numpy()))\n",
    "X_final.columns = predictors"
   ]
  },
  {
   "cell_type": "code",
   "execution_count": null,
   "id": "6d312dc6",
   "metadata": {},
   "outputs": [],
   "source": []
  }
 ],
 "metadata": {
  "kernelspec": {
   "display_name": "Python 3 (ipykernel)",
   "language": "python",
   "name": "python3"
  },
  "language_info": {
   "codemirror_mode": {
    "name": "ipython",
    "version": 3
   },
   "file_extension": ".py",
   "mimetype": "text/x-python",
   "name": "python",
   "nbconvert_exporter": "python",
   "pygments_lexer": "ipython3",
   "version": "3.9.5"
  }
 },
 "nbformat": 4,
 "nbformat_minor": 5
}
