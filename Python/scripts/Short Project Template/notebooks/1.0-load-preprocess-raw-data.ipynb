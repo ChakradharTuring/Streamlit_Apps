{
 "cells": [
  {
   "cell_type": "code",
   "execution_count": 5,
   "id": "f59cfe71",
   "metadata": {},
   "outputs": [],
   "source": [
    "import yaml\n",
    "import settings\n",
    "import pickle\n",
    "import pandas as pd"
   ]
  },
  {
   "cell_type": "markdown",
   "id": "64447660",
   "metadata": {},
   "source": [
    "# Load Raw Data\n",
    "- set `do_reload_from_bq` to True if want to read Data from GBQ else data will be loaded from local pickle file\n",
    "- if `do_reload_from_bq` & `store_dataset` both are True then data from GBQ will be stored in local pickle file"
   ]
  },
  {
   "cell_type": "code",
   "execution_count": 6,
   "id": "41ff11cc",
   "metadata": {},
   "outputs": [],
   "source": [
    "class TuringDataset:\n",
    "\n",
    "    def __init__(self,filetype='pickle', do_reload_from_bq=False, store_dataset=False):\n",
    "\n",
    "        if do_reload_from_bq is True:\n",
    "            query_config_path = settings.query_config_path\n",
    "\n",
    "            self.query_dict = {}\n",
    "            self.dataset = {}\n",
    "            with open(query_config_path, \"r\") as query_config_file:\n",
    "                self.query_dict = yaml.safe_load(query_config_file)\n",
    "\n",
    "            dataset = self.load_dataset_using_query_file()\n",
    "        else:\n",
    "            dataset = pd.read_pickle(settings.raw_dataset_path)\n",
    "            \n",
    "        self.dataset = dataset\n",
    "        \n",
    "        if store_dataset is True and do_reload_from_bq is True:\n",
    "            self.dump_dataset_into_file(self.dataset, filepath=settings.raw_dataset_path,\n",
    "                                          filetype=filetype)\n",
    "                   \n",
    "    def load_dataset_using_query_file(self):\n",
    "        dataset = {}\n",
    "        for dataset_name, query_data in self.query_dict.items():\n",
    "            query = query_data['query']\n",
    "            data_df = pd.read_gbq(query)\n",
    "            dataset[dataset_name] = data_df\n",
    "        return dataset\n",
    "    \n",
    "    def dump_dataset_into_file(self, dataset, filepath='../data', filetype='pkl'):\n",
    "        \n",
    "        with open(filepath, 'wb') as handle:\n",
    "            pickle.dump(dataset, handle, protocol=pickle.HIGHEST_PROTOCOL)\n",
    "             \n",
    "    def get_dataset_df(self):\n",
    "        return self.dataset\n"
   ]
  },
  {
   "cell_type": "markdown",
   "id": "14580dde",
   "metadata": {},
   "source": [
    "## Raw data\n"
   ]
  },
  {
   "cell_type": "code",
   "execution_count": 7,
   "id": "1a09538e",
   "metadata": {},
   "outputs": [
    {
     "data": {
      "text/plain": [
       "dict_keys(['projects', 'jobs'])"
      ]
     },
     "execution_count": 7,
     "metadata": {},
     "output_type": "execute_result"
    }
   ],
   "source": [
    "# Instance of TuringDataset class\n",
    "TuringDataset_instance = TuringDataset(filetype='pickle', do_reload_from_bq=False, store_dataset=True)\n",
    "dataset = TuringDataset_instance.get_dataset_df()\n",
    "dataset.keys()"
   ]
  },
  {
   "cell_type": "code",
   "execution_count": 8,
   "id": "c0f82cf6",
   "metadata": {},
   "outputs": [],
   "source": [
    "projects = dataset['projects']\n",
    "jobs = dataset['jobs']\n",
    "del dataset"
   ]
  },
  {
   "cell_type": "markdown",
   "id": "f94a3b1e",
   "metadata": {},
   "source": [
    "## Preprocessing"
   ]
  },
  {
   "cell_type": "code",
   "execution_count": null,
   "id": "4bec8fb6",
   "metadata": {},
   "outputs": [],
   "source": [
    "# Some preprocessing and then storing all data frames in a dictionary"
   ]
  },
  {
   "cell_type": "code",
   "execution_count": 9,
   "id": "d5d0fa2d",
   "metadata": {},
   "outputs": [],
   "source": [
    "processd_dataset = {}\n",
    "\n",
    "processd_dataset['X'] = projects\n",
    "processd_dataset['Y'] = jobs"
   ]
  },
  {
   "cell_type": "code",
   "execution_count": 11,
   "id": "64d82015",
   "metadata": {},
   "outputs": [],
   "source": [
    "with open(settings.processed_dataset_path, 'wb') as handle:\n",
    "        pickle.dump(processd_dataset, handle, protocol=pickle.HIGHEST_PROTOCOL)"
   ]
  },
  {
   "cell_type": "code",
   "execution_count": null,
   "id": "36acd407",
   "metadata": {},
   "outputs": [],
   "source": []
  }
 ],
 "metadata": {
  "kernelspec": {
   "display_name": "Python 3 (ipykernel)",
   "language": "python",
   "name": "python3"
  },
  "language_info": {
   "codemirror_mode": {
    "name": "ipython",
    "version": 3
   },
   "file_extension": ".py",
   "mimetype": "text/x-python",
   "name": "python",
   "nbconvert_exporter": "python",
   "pygments_lexer": "ipython3",
   "version": "3.9.5"
  },
  "varInspector": {
   "cols": {
    "lenName": 16,
    "lenType": 16,
    "lenVar": 40
   },
   "kernels_config": {
    "python": {
     "delete_cmd_postfix": "",
     "delete_cmd_prefix": "del ",
     "library": "var_list.py",
     "varRefreshCmd": "print(var_dic_list())"
    },
    "r": {
     "delete_cmd_postfix": ") ",
     "delete_cmd_prefix": "rm(",
     "library": "var_list.r",
     "varRefreshCmd": "cat(var_dic_list()) "
    }
   },
   "types_to_exclude": [
    "module",
    "function",
    "builtin_function_or_method",
    "instance",
    "_Feature"
   ],
   "window_display": false
  }
 },
 "nbformat": 4,
 "nbformat_minor": 5
}
