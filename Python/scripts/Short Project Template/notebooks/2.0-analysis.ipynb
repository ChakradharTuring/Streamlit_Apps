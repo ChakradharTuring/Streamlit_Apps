{
 "cells": [
  {
   "cell_type": "code",
   "execution_count": 1,
   "id": "50109354",
   "metadata": {},
   "outputs": [],
   "source": [
    "import yaml\n",
    "import settings\n",
    "import pickle\n",
    "import pandas as pd"
   ]
  },
  {
   "cell_type": "markdown",
   "id": "8cde254d",
   "metadata": {},
   "source": [
    "# Loading Processed Data"
   ]
  },
  {
   "cell_type": "code",
   "execution_count": 2,
   "id": "72720ad5",
   "metadata": {},
   "outputs": [],
   "source": [
    "dataset = pd.read_pickle(settings.processed_dataset_path)\n",
    "print(dataset.keys())\n",
    "\n",
    "X = dataset['X']\n",
    "Y = dataset['Y']\n",
    "del datasetta"
   ]
  },
  {
   "cell_type": "code",
   "execution_count": null,
   "id": "9c543671",
   "metadata": {},
   "outputs": [],
   "source": []
  },
  {
   "cell_type": "code",
   "execution_count": null,
   "id": "c448c010",
   "metadata": {},
   "outputs": [],
   "source": []
  }
 ],
 "metadata": {
  "kernelspec": {
   "display_name": "Python 3 (ipykernel)",
   "language": "python",
   "name": "python3"
  },
  "language_info": {
   "codemirror_mode": {
    "name": "ipython",
    "version": 3
   },
   "file_extension": ".py",
   "mimetype": "text/x-python",
   "name": "python",
   "nbconvert_exporter": "python",
   "pygments_lexer": "ipython3",
   "version": "3.9.5"
  },
  "varInspector": {
   "cols": {
    "lenName": 16,
    "lenType": 16,
    "lenVar": 40
   },
   "kernels_config": {
    "python": {
     "delete_cmd_postfix": "",
     "delete_cmd_prefix": "del ",
     "library": "var_list.py",
     "varRefreshCmd": "print(var_dic_list())"
    },
    "r": {
     "delete_cmd_postfix": ") ",
     "delete_cmd_prefix": "rm(",
     "library": "var_list.r",
     "varRefreshCmd": "cat(var_dic_list()) "
    }
   },
   "types_to_exclude": [
    "module",
    "function",
    "builtin_function_or_method",
    "instance",
    "_Feature"
   ],
   "window_display": false
  }
 },
 "nbformat": 4,
 "nbformat_minor": 5
}
