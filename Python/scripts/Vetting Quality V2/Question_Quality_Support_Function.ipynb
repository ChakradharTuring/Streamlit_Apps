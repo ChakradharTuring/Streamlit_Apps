{
 "cells": [
  {
   "cell_type": "code",
   "execution_count": 1,
   "metadata": {},
   "outputs": [],
   "source": [
    "#pip3 freeze > \"requirements.txt\"\n",
    "\n",
    "import pandas as pd\n",
    "pd.set_option('display.max_rows', 500)\n",
    "pd.set_option('display.max_columns', 500)\n",
    "pd.set_option('display.width', 1000)\n",
    "import numpy as np\n",
    "from scipy import stats\n",
    "import pandas_gbq\n",
    "\n"
   ]
  },
  {
   "cell_type": "code",
   "execution_count": 2,
   "metadata": {},
   "outputs": [],
   "source": [
    "def problem_selection(df_final):\n",
    "    for i in df_final.index:\n",
    "        if (df_final.at[i, 'Version'] == 'V-1'): # & (df_final.at[i, 'Version'] == 'Older Version') \n",
    "            if df_final.at[i, 'DC_IR_Difference'] >= 1:\n",
    "                df_final.at[i,'Decision'] = 'Keep Problem'\n",
    "                df_final.at[i,'Reason'] = 'DC/IR Difference Good'\n",
    "            elif (df_final.at[i, 'Pass_pct']>80) or (df_final.at[i, 'Pass_pct']<20):\n",
    "                df_final.at[i,'Decision'] = 'Discard Problem'\n",
    "                df_final.at[i,'Reason'] = 'DC/IR & Pass(%) Problem'\n",
    "            elif df_final.at[i,'Point_biserial_correlation'] < 0.2:\n",
    "                df_final.at[i,'Decision'] = 'Discard Problem'\n",
    "                df_final.at[i,'Reason'] = 'DC/IR & Correlation Problem'\n",
    "            elif df_final.at[i,'Distractor_Efficiency'] < 50:\n",
    "                df_final.at[i,'Decision'] = 'Discard Problem'\n",
    "                df_final.at[i,'Reason'] = 'DC/IR & Distractor Efficiency'\n",
    "            else:\n",
    "                df_final.at[i,'Decision'] = 'Keep Problem'\n",
    "                df_final.at[i,'Reason'] = 'Pass(%) & Correlation & DE Good'\n",
    "        else:\n",
    "            if (df_final.at[i, 'Pass_pct']>80) or (df_final.at[i, 'Pass_pct']<20):\n",
    "                df_final.at[i,'Decision'] = 'Discard Problem'\n",
    "                df_final.at[i,'Reason'] = 'Pass(%) Problem'\n",
    "            elif df_final.at[i,'Point_biserial_correlation'] < 0.2:\n",
    "                df_final.at[i,'Decision'] = 'Discard Problem'\n",
    "                df_final.at[i,'Reason'] = 'Correlation Problem'\n",
    "            elif df_final.at[i,'Distractor_Efficiency'] < 50:\n",
    "                df_final.at[i,'Decision'] = 'Discard Problem'\n",
    "                df_final.at[i,'Reason'] = 'Distractor Efficiency'\n",
    "            else:\n",
    "                df_final.at[i,'Decision'] = 'Keep Problem'\n",
    "                df_final.at[i,'Reason'] = 'Pass(%) & Correlation & DE Good'\n",
    "    return df_final"
   ]
  }
 ],
 "metadata": {
  "kernelspec": {
   "display_name": "gbq",
   "language": "python",
   "name": "python3"
  },
  "language_info": {
   "codemirror_mode": {
    "name": "ipython",
    "version": 3
   },
   "file_extension": ".py",
   "mimetype": "text/x-python",
   "name": "python",
   "nbconvert_exporter": "python",
   "pygments_lexer": "ipython3",
   "version": "3.9.5"
  },
  "orig_nbformat": 4,
  "vscode": {
   "interpreter": {
    "hash": "acdb5ef9806a1e5032de413fc701d5ee79633c70c2aa428b562cb00e5e9b6ef7"
   }
  }
 },
 "nbformat": 4,
 "nbformat_minor": 2
}
