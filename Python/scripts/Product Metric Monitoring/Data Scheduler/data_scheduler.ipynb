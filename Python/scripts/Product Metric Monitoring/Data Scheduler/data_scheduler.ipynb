{
 "cells": [
  {
   "cell_type": "code",
   "execution_count": 12,
   "id": "6548f423",
   "metadata": {},
   "outputs": [
    {
     "ename": "SyntaxError",
     "evalue": "(unicode error) 'unicodeescape' codec can't decode bytes in position 11-13: truncated \\uXXXX escape (732834773.py, line 3)",
     "output_type": "error",
     "traceback": [
      "\u001b[0;36m  Cell \u001b[0;32mIn [12], line 3\u001b[0;36m\u001b[0m\n\u001b[0;31m    display(Markdown('anomaly\\n $\\uarr$'))\u001b[0m\n\u001b[0m                                        ^\u001b[0m\n\u001b[0;31mSyntaxError\u001b[0m\u001b[0;31m:\u001b[0m (unicode error) 'unicodeescape' codec can't decode bytes in position 11-13: truncated \\uXXXX escape\n"
     ]
    }
   ],
   "source": [
    "from IPython.display import display, Markdown\n",
    "\n",
    "display(Markdown('anomaly\\n $\\uarr$'))"
   ]
  },
  {
   "cell_type": "code",
   "execution_count": 1,
   "id": "a4fd83dd-19ee-46d8-9211-bc7b64efe8ad",
   "metadata": {},
   "outputs": [
    {
     "name": "stdout",
     "output_type": "stream",
     "text": [
      "Running queries to get all data\n",
      "Query run time: 13.65 seconds\n",
      "Query run time: 12.05 seconds\n",
      "Query run time: 11.37 seconds\n",
      "Query run time: 11.39 seconds\n",
      "Query run time: 13.61 seconds\n",
      "Query run time: 11.98 seconds\n",
      "Query run time: 10.7 seconds\n",
      "Query run time: 11.22 seconds\n",
      "Query run time: 10.83 seconds\n",
      "Query run time: 10.94 seconds\n",
      "Query run time: 12.0 seconds\n",
      "Query run time: 13.87 seconds\n",
      "Query run time: 12.9 seconds\n",
      "Query run time: 13.0 seconds\n",
      "Query run time: 11.61 seconds\n",
      "Query run time: 12.5 seconds\n",
      "Query run time: 13.45 seconds\n",
      "Query run time: 11.81 seconds\n",
      "Query run time: 11.93 seconds\n",
      "Query run time: 14.06 seconds\n",
      "Query run time: 26.15 seconds\n",
      "Query run time: 21.96 seconds\n",
      "Query run time: 13.36 seconds\n",
      "Query run time: 11.26 seconds\n",
      "Query run time: 23.36 seconds\n",
      "Query run time: 22.93 seconds\n",
      "Query run time: 31.93 seconds\n",
      "Query run time: 26.4 seconds\n",
      "Query run time: 30.72 seconds\n",
      "Query run time: 31.67 seconds\n",
      "Query run time: 14.89 seconds\n",
      "Query run time: 11.59 seconds\n",
      "Query run time: 29.33 seconds\n",
      "Query run time: 28.6 seconds\n",
      "Query run time: 27.65 seconds\n",
      "Query run time: 27.55 seconds\n",
      "Query run time: 14.04 seconds\n",
      "Query run time: 12.61 seconds\n",
      "Query run time: 2.31 seconds\n",
      "Query run time: 2.29 seconds\n",
      "Query run time: 1.94 seconds\n",
      "Query run time: 2.22 seconds\n",
      "Query run time: 1.7 seconds\n",
      "Query run time: 1.87 seconds\n",
      "Query run time: 2.2 seconds\n",
      "Query run time: 10.76 seconds\n",
      "Query run time: 2.23 seconds\n",
      "Query run time: 2.12 seconds\n",
      "Query run time: 2.18 seconds\n",
      "Query run time: 1.86 seconds\n",
      "Query run time: 1.77 seconds\n",
      "Query run time: 3.17 seconds\n",
      "Query run time: 1.89 seconds\n",
      "Query run time: 1.76 seconds\n",
      "Query run time: 3.62 seconds\n",
      "Query run time: 1.76 seconds\n",
      "Query run time: 2.15 seconds\n",
      "Query run time: 2.39 seconds\n",
      "Query run time: 3.69 seconds\n",
      "Query run time: 1.69 seconds\n",
      "Query run time: 1.65 seconds\n",
      "Query run time: 1.77 seconds\n",
      "Query run time: 1.84 seconds\n",
      "Query run time: 2.05 seconds\n",
      "Query run time: 1.83 seconds\n",
      "Query run time: 1.72 seconds\n",
      "Query run time: 1.62 seconds\n",
      "Query run time: 1.81 seconds\n",
      "Query run time: 1.75 seconds\n",
      "Query run time: 2.05 seconds\n",
      "Query run time: 2.03 seconds\n",
      "Query run time: 2.02 seconds\n",
      "Query run time: 2.05 seconds\n",
      "Query run time: 1.99 seconds\n",
      "Query run time: 2.0 seconds\n",
      "Query run time: 2.2 seconds\n"
     ]
    }
   ],
   "source": [
    "from data_fetchers import get_all_data\n",
    "from dotenv import load_dotenv\n",
    "from get_predictions import get_all_anomalies\n",
    "from helper_functions import change_dict_df\n",
    "import os\n",
    "import pins\n",
    "\n",
    "\n",
    "load_dotenv()\n",
    "\n",
    "supply_data, matching_data, selfserv_data, glossary = get_all_data()\n",
    "supply_forecasts, matching_forecasts, selfserv_forecasts = get_all_anomalies(supply_data, matching_data, selfserv_data)\n",
    "\n",
    "supply_data, matching_data, selfserv_data, glossary = change_dict_df(supply_data, dict_to_df=1), change_dict_df(matching_data, dict_to_df=1), change_dict_df(selfserv_data, dict_to_df=1), change_dict_df(glossary, dict_to_df=1)\n",
    "supply_forecasts, matching_forecasts, selfserv_forecasts = change_dict_df(supply_forecasts, dict_to_df=1), change_dict_df(matching_forecasts, dict_to_df=1), change_dict_df(selfserv_forecasts, dict_to_df=1)\n",
    "\n",
    "board = pins.board_rsconnect(server_url='https://rstudio-connect.turing.com/', api_key=os.getenv(\"API_KEY\"), allow_pickle_read=True)\n",
    "\n",
    "board.pin_write(supply_data, 'bhanu_mittal/janus_supply_data', type='joblib')\n",
    "board.pin_write(matching_data, 'bhanu_mittal/janus_matching_data', type='joblib')\n",
    "board.pin_write(selfserv_data, 'bhanu_mittal/janus_selfserv_data', type='joblib')\n",
    "board.pin_write(glossary, 'bhanu_mittal/janus_glossary', type='joblib')\n",
    "\n",
    "board.pin_write(supply_forecasts, 'bhanu_mittal/janus_supply_forecasts', type='joblib')\n",
    "board.pin_write(matching_forecasts, 'bhanu_mittal/janus_matching_forecasts', type='joblib')\n",
    "board.pin_write(selfserv_forecasts, 'bhanu_mittal/janus_selfserv_forecasts', type='joblib')"
   ]
  }
 ],
 "metadata": {
  "kernelspec": {
   "display_name": "Python 3 (ipykernel)",
   "language": "python",
   "name": "python3"
  },
  "language_info": {
   "codemirror_mode": {
    "name": "ipython",
    "version": 3
   },
   "file_extension": ".py",
   "mimetype": "text/x-python",
   "name": "python",
   "nbconvert_exporter": "python",
   "pygments_lexer": "ipython3",
   "version": "3.9.5"
  }
 },
 "nbformat": 4,
 "nbformat_minor": 5
}
