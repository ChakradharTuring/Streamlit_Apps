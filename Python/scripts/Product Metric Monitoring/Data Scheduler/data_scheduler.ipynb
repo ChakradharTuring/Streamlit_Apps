{
 "cells": [
  {
   "cell_type": "code",
   "execution_count": null,
   "id": "a4fd83dd-19ee-46d8-9211-bc7b64efe8ad",
   "metadata": {},
   "outputs": [],
   "source": [
    "from data_fetchers import get_all_data\n",
    "from dotenv import load_dotenv\n",
    "from get_predictions import get_all_anomalies\n",
    "from helper_functions import change_dict_df\n",
    "import os\n",
    "import pins\n",
    "\n",
    "\n",
    "load_dotenv()\n",
    "\n",
    "supply_data, matching_data, selfserv_data, glossary = get_all_data()\n",
    "supply_forecasts, matching_forecasts, selfserv_forecasts = get_all_anomalies(supply_data, matching_data, selfserv_data)\n",
    "\n",
    "supply_data, matching_data, selfserv_data, glossary = change_dict_df(supply_data, dict_to_df=1), change_dict_df(matching_data, dict_to_df=1), change_dict_df(selfserv_data, dict_to_df=1), change_dict_df(glossary, dict_to_df=1)\n",
    "supply_forecasts, matching_forecasts, selfserv_forecasts = change_dict_df(supply_forecasts, dict_to_df=1), change_dict_df(matching_forecasts, dict_to_df=1), change_dict_df(selfserv_forecasts, dict_to_df=1)\n",
    "\n",
    "board = pins.board_rsconnect(server_url='https://rstudio-connect.turing.com/', api_key=os.getenv(\"API_KEY\"), allow_pickle_read=True)\n",
    "\n",
    "board.pin_write(supply_data, 'bhanu_mittal/janus_supply_data', type='joblib')\n",
    "board.pin_write(matching_data, 'bhanu_mittal/janus_matching_data', type='joblib')\n",
    "board.pin_write(selfserv_data, 'bhanu_mittal/janus_selfserv_data', type='joblib')\n",
    "board.pin_write(glossary, 'bhanu_mittal/janus_glossary', type='joblib')\n",
    "\n",
    "board.pin_write(supply_forecasts, 'bhanu_mittal/janus_supply_forecasts', type='joblib')\n",
    "board.pin_write(matching_forecasts, 'bhanu_mittal/janus_matching_forecasts', type='joblib')\n",
    "board.pin_write(selfserv_forecasts, 'bhanu_mittal/janus_selfserv_forecasts', type='joblib')"
   ]
  }
 ],
 "metadata": {
  "kernelspec": {
   "display_name": "Python 3",
   "language": "python",
   "name": "python3"
  },
  "language_info": {
   "codemirror_mode": {
    "name": "ipython",
    "version": 3
   },
   "file_extension": ".py",
   "mimetype": "text/x-python",
   "name": "python",
   "nbconvert_exporter": "python",
   "pygments_lexer": "ipython3",
   "version": "3.9.14"
  },
  "vscode": {
   "interpreter": {
    "hash": "c901889eafda52e0a2c66f3f25c70c672c62ba11d63b99f66d32e921c8ded3b6"
   }
  }
 },
 "nbformat": 4,
 "nbformat_minor": 5
}
