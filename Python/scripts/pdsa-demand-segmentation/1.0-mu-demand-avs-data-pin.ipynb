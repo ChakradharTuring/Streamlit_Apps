{
 "cells": [
  {
   "cell_type": "code",
   "execution_count": 1,
   "id": "48609145",
   "metadata": {},
   "outputs": [
    {
     "ename": "DistributionNotFound",
     "evalue": "The 'google-cloud-bigquery-storage' distribution was not found and is required by the application",
     "output_type": "error",
     "traceback": [
      "\u001b[0;31m---------------------------------------------------------------------------\u001b[0m",
      "\u001b[0;31mDistributionNotFound\u001b[0m                      Traceback (most recent call last)",
      "\u001b[1;32m/home/muhammad.usman/testuser3/pdsa-demand-segmentation/1.0-mu-demand-avs-data-pin.ipynb Cell 1'\u001b[0m in \u001b[0;36m<cell line: 3>\u001b[0;34m()\u001b[0m\n\u001b[1;32m      <a href='vscode-notebook-cell://workbench.turing.com/home/muhammad.usman/testuser3/pdsa-demand-segmentation/1.0-mu-demand-avs-data-pin.ipynb#ch0000000vscode-remote?line=0'>1</a>\u001b[0m \u001b[39m#!pip3 freeze > \"../requirements.txt\"\u001b[39;00m\n\u001b[1;32m      <a href='vscode-notebook-cell://workbench.turing.com/home/muhammad.usman/testuser3/pdsa-demand-segmentation/1.0-mu-demand-avs-data-pin.ipynb#ch0000000vscode-remote?line=1'>2</a>\u001b[0m \u001b[39m#!pip3 install -r \"../requirements.txt\"  # giving some error\u001b[39;00m\n\u001b[0;32m----> <a href='vscode-notebook-cell://workbench.turing.com/home/muhammad.usman/testuser3/pdsa-demand-segmentation/1.0-mu-demand-avs-data-pin.ipynb#ch0000000vscode-remote?line=2'>3</a>\u001b[0m \u001b[39mfrom\u001b[39;00m \u001b[39mgoogle\u001b[39;00m\u001b[39m.\u001b[39;00m\u001b[39mcloud\u001b[39;00m \u001b[39mimport\u001b[39;00m bigquery\n\u001b[1;32m      <a href='vscode-notebook-cell://workbench.turing.com/home/muhammad.usman/testuser3/pdsa-demand-segmentation/1.0-mu-demand-avs-data-pin.ipynb#ch0000000vscode-remote?line=3'>4</a>\u001b[0m \u001b[39mimport\u001b[39;00m \u001b[39mpandas\u001b[39;00m \u001b[39mas\u001b[39;00m \u001b[39mpd\u001b[39;00m\n\u001b[1;32m      <a href='vscode-notebook-cell://workbench.turing.com/home/muhammad.usman/testuser3/pdsa-demand-segmentation/1.0-mu-demand-avs-data-pin.ipynb#ch0000000vscode-remote?line=4'>5</a>\u001b[0m \u001b[39mimport\u001b[39;00m \u001b[39mnumpy\u001b[39;00m \u001b[39mas\u001b[39;00m \u001b[39mnp\u001b[39;00m\n",
      "File \u001b[0;32m~/.local/lib/python3.9/site-packages/google/cloud/bigquery/__init__.py:35\u001b[0m, in \u001b[0;36m<module>\u001b[0;34m\u001b[0m\n\u001b[1;32m     <a href='file:///home/muhammad.usman/.local/lib/python3.9/site-packages/google/cloud/bigquery/__init__.py?line=30'>31</a>\u001b[0m \u001b[39mfrom\u001b[39;00m \u001b[39mgoogle\u001b[39;00m\u001b[39m.\u001b[39;00m\u001b[39mcloud\u001b[39;00m\u001b[39m.\u001b[39;00m\u001b[39mbigquery\u001b[39;00m \u001b[39mimport\u001b[39;00m version \u001b[39mas\u001b[39;00m bigquery_version\n\u001b[1;32m     <a href='file:///home/muhammad.usman/.local/lib/python3.9/site-packages/google/cloud/bigquery/__init__.py?line=32'>33</a>\u001b[0m __version__ \u001b[39m=\u001b[39m bigquery_version\u001b[39m.\u001b[39m__version__\n\u001b[0;32m---> <a href='file:///home/muhammad.usman/.local/lib/python3.9/site-packages/google/cloud/bigquery/__init__.py?line=34'>35</a>\u001b[0m \u001b[39mfrom\u001b[39;00m \u001b[39mgoogle\u001b[39;00m\u001b[39m.\u001b[39;00m\u001b[39mcloud\u001b[39;00m\u001b[39m.\u001b[39;00m\u001b[39mbigquery\u001b[39;00m\u001b[39m.\u001b[39;00m\u001b[39mclient\u001b[39;00m \u001b[39mimport\u001b[39;00m Client\n\u001b[1;32m     <a href='file:///home/muhammad.usman/.local/lib/python3.9/site-packages/google/cloud/bigquery/__init__.py?line=35'>36</a>\u001b[0m \u001b[39mfrom\u001b[39;00m \u001b[39mgoogle\u001b[39;00m\u001b[39m.\u001b[39;00m\u001b[39mcloud\u001b[39;00m\u001b[39m.\u001b[39;00m\u001b[39mbigquery\u001b[39;00m\u001b[39m.\u001b[39;00m\u001b[39mdataset\u001b[39;00m \u001b[39mimport\u001b[39;00m AccessEntry\n\u001b[1;32m     <a href='file:///home/muhammad.usman/.local/lib/python3.9/site-packages/google/cloud/bigquery/__init__.py?line=36'>37</a>\u001b[0m \u001b[39mfrom\u001b[39;00m \u001b[39mgoogle\u001b[39;00m\u001b[39m.\u001b[39;00m\u001b[39mcloud\u001b[39;00m\u001b[39m.\u001b[39;00m\u001b[39mbigquery\u001b[39;00m\u001b[39m.\u001b[39;00m\u001b[39mdataset\u001b[39;00m \u001b[39mimport\u001b[39;00m Dataset\n",
      "File \u001b[0;32m~/.local/lib/python3.9/site-packages/google/cloud/bigquery/client.py:59\u001b[0m, in \u001b[0;36m<module>\u001b[0;34m\u001b[0m\n\u001b[1;32m     <a href='file:///home/muhammad.usman/.local/lib/python3.9/site-packages/google/cloud/bigquery/client.py?line=56'>57</a>\u001b[0m \u001b[39mfrom\u001b[39;00m \u001b[39mgoogle\u001b[39;00m\u001b[39m.\u001b[39;00m\u001b[39mcloud\u001b[39;00m \u001b[39mimport\u001b[39;00m exceptions  \u001b[39m# pytype: disable=import-error\u001b[39;00m\n\u001b[1;32m     <a href='file:///home/muhammad.usman/.local/lib/python3.9/site-packages/google/cloud/bigquery/client.py?line=57'>58</a>\u001b[0m \u001b[39mfrom\u001b[39;00m \u001b[39mgoogle\u001b[39;00m\u001b[39m.\u001b[39;00m\u001b[39mcloud\u001b[39;00m\u001b[39m.\u001b[39;00m\u001b[39mclient\u001b[39;00m \u001b[39mimport\u001b[39;00m ClientWithProject  \u001b[39m# type: ignore  # pytype: disable=import-error\u001b[39;00m\n\u001b[0;32m---> <a href='file:///home/muhammad.usman/.local/lib/python3.9/site-packages/google/cloud/bigquery/client.py?line=58'>59</a>\u001b[0m \u001b[39mfrom\u001b[39;00m \u001b[39mgoogle\u001b[39;00m\u001b[39m.\u001b[39;00m\u001b[39mcloud\u001b[39;00m\u001b[39m.\u001b[39;00m\u001b[39mbigquery_storage_v1\u001b[39;00m\u001b[39m.\u001b[39;00m\u001b[39mservices\u001b[39;00m\u001b[39m.\u001b[39;00m\u001b[39mbig_query_read\u001b[39;00m\u001b[39m.\u001b[39;00m\u001b[39mclient\u001b[39;00m \u001b[39mimport\u001b[39;00m (\n\u001b[1;32m     <a href='file:///home/muhammad.usman/.local/lib/python3.9/site-packages/google/cloud/bigquery/client.py?line=59'>60</a>\u001b[0m     DEFAULT_CLIENT_INFO \u001b[39mas\u001b[39;00m DEFAULT_BQSTORAGE_CLIENT_INFO,\n\u001b[1;32m     <a href='file:///home/muhammad.usman/.local/lib/python3.9/site-packages/google/cloud/bigquery/client.py?line=60'>61</a>\u001b[0m )\n\u001b[1;32m     <a href='file:///home/muhammad.usman/.local/lib/python3.9/site-packages/google/cloud/bigquery/client.py?line=62'>63</a>\u001b[0m \u001b[39mfrom\u001b[39;00m \u001b[39mgoogle\u001b[39;00m\u001b[39m.\u001b[39;00m\u001b[39mcloud\u001b[39;00m\u001b[39m.\u001b[39;00m\u001b[39mbigquery\u001b[39;00m \u001b[39mimport\u001b[39;00m _job_helpers\n\u001b[1;32m     <a href='file:///home/muhammad.usman/.local/lib/python3.9/site-packages/google/cloud/bigquery/client.py?line=63'>64</a>\u001b[0m \u001b[39mfrom\u001b[39;00m \u001b[39mgoogle\u001b[39;00m\u001b[39m.\u001b[39;00m\u001b[39mcloud\u001b[39;00m\u001b[39m.\u001b[39;00m\u001b[39mbigquery\u001b[39;00m\u001b[39m.\u001b[39;00m\u001b[39m_job_helpers\u001b[39;00m \u001b[39mimport\u001b[39;00m make_job_id \u001b[39mas\u001b[39;00m _make_job_id\n",
      "File \u001b[0;32m~/.local/lib/python3.9/site-packages/google/cloud/bigquery_storage_v1/__init__.py:21\u001b[0m, in \u001b[0;36m<module>\u001b[0;34m\u001b[0m\n\u001b[1;32m     <a href='file:///home/muhammad.usman/.local/lib/python3.9/site-packages/google/cloud/bigquery_storage_v1/__init__.py?line=16'>17</a>\u001b[0m \u001b[39mfrom\u001b[39;00m \u001b[39m__future__\u001b[39;00m \u001b[39mimport\u001b[39;00m absolute_import\n\u001b[1;32m     <a href='file:///home/muhammad.usman/.local/lib/python3.9/site-packages/google/cloud/bigquery_storage_v1/__init__.py?line=18'>19</a>\u001b[0m \u001b[39mimport\u001b[39;00m \u001b[39mpkg_resources\u001b[39;00m\n\u001b[0;32m---> <a href='file:///home/muhammad.usman/.local/lib/python3.9/site-packages/google/cloud/bigquery_storage_v1/__init__.py?line=20'>21</a>\u001b[0m __version__ \u001b[39m=\u001b[39m pkg_resources\u001b[39m.\u001b[39;49mget_distribution(\n\u001b[1;32m     <a href='file:///home/muhammad.usman/.local/lib/python3.9/site-packages/google/cloud/bigquery_storage_v1/__init__.py?line=21'>22</a>\u001b[0m     \u001b[39m\"\u001b[39;49m\u001b[39mgoogle-cloud-bigquery-storage\u001b[39;49m\u001b[39m\"\u001b[39;49m\n\u001b[1;32m     <a href='file:///home/muhammad.usman/.local/lib/python3.9/site-packages/google/cloud/bigquery_storage_v1/__init__.py?line=22'>23</a>\u001b[0m )\u001b[39m.\u001b[39mversion  \u001b[39m# noqa\u001b[39;00m\n\u001b[1;32m     <a href='file:///home/muhammad.usman/.local/lib/python3.9/site-packages/google/cloud/bigquery_storage_v1/__init__.py?line=24'>25</a>\u001b[0m \u001b[39mfrom\u001b[39;00m \u001b[39mgoogle\u001b[39;00m\u001b[39m.\u001b[39;00m\u001b[39mcloud\u001b[39;00m\u001b[39m.\u001b[39;00m\u001b[39mbigquery_storage_v1\u001b[39;00m \u001b[39mimport\u001b[39;00m client\n\u001b[1;32m     <a href='file:///home/muhammad.usman/.local/lib/python3.9/site-packages/google/cloud/bigquery_storage_v1/__init__.py?line=25'>26</a>\u001b[0m \u001b[39mfrom\u001b[39;00m \u001b[39mgoogle\u001b[39;00m\u001b[39m.\u001b[39;00m\u001b[39mcloud\u001b[39;00m\u001b[39m.\u001b[39;00m\u001b[39mbigquery_storage_v1\u001b[39;00m \u001b[39mimport\u001b[39;00m types\n",
      "File \u001b[0;32m/opt/python/3.9.5/lib/python3.9/site-packages/pkg_resources/__init__.py:477\u001b[0m, in \u001b[0;36mget_distribution\u001b[0;34m(dist)\u001b[0m\n\u001b[1;32m    <a href='file:///opt/python/3.9.5/lib/python3.9/site-packages/pkg_resources/__init__.py?line=474'>475</a>\u001b[0m     dist \u001b[39m=\u001b[39m Requirement\u001b[39m.\u001b[39mparse(dist)\n\u001b[1;32m    <a href='file:///opt/python/3.9.5/lib/python3.9/site-packages/pkg_resources/__init__.py?line=475'>476</a>\u001b[0m \u001b[39mif\u001b[39;00m \u001b[39misinstance\u001b[39m(dist, Requirement):\n\u001b[0;32m--> <a href='file:///opt/python/3.9.5/lib/python3.9/site-packages/pkg_resources/__init__.py?line=476'>477</a>\u001b[0m     dist \u001b[39m=\u001b[39m get_provider(dist)\n\u001b[1;32m    <a href='file:///opt/python/3.9.5/lib/python3.9/site-packages/pkg_resources/__init__.py?line=477'>478</a>\u001b[0m \u001b[39mif\u001b[39;00m \u001b[39mnot\u001b[39;00m \u001b[39misinstance\u001b[39m(dist, Distribution):\n\u001b[1;32m    <a href='file:///opt/python/3.9.5/lib/python3.9/site-packages/pkg_resources/__init__.py?line=478'>479</a>\u001b[0m     \u001b[39mraise\u001b[39;00m \u001b[39mTypeError\u001b[39;00m(\u001b[39m\"\u001b[39m\u001b[39mExpected string, Requirement, or Distribution\u001b[39m\u001b[39m\"\u001b[39m, dist)\n",
      "File \u001b[0;32m/opt/python/3.9.5/lib/python3.9/site-packages/pkg_resources/__init__.py:353\u001b[0m, in \u001b[0;36mget_provider\u001b[0;34m(moduleOrReq)\u001b[0m\n\u001b[1;32m    <a href='file:///opt/python/3.9.5/lib/python3.9/site-packages/pkg_resources/__init__.py?line=350'>351</a>\u001b[0m \u001b[39m\"\"\"Return an IResourceProvider for the named module or requirement\"\"\"\u001b[39;00m\n\u001b[1;32m    <a href='file:///opt/python/3.9.5/lib/python3.9/site-packages/pkg_resources/__init__.py?line=351'>352</a>\u001b[0m \u001b[39mif\u001b[39;00m \u001b[39misinstance\u001b[39m(moduleOrReq, Requirement):\n\u001b[0;32m--> <a href='file:///opt/python/3.9.5/lib/python3.9/site-packages/pkg_resources/__init__.py?line=352'>353</a>\u001b[0m     \u001b[39mreturn\u001b[39;00m working_set\u001b[39m.\u001b[39mfind(moduleOrReq) \u001b[39mor\u001b[39;00m require(\u001b[39mstr\u001b[39;49m(moduleOrReq))[\u001b[39m0\u001b[39m]\n\u001b[1;32m    <a href='file:///opt/python/3.9.5/lib/python3.9/site-packages/pkg_resources/__init__.py?line=353'>354</a>\u001b[0m \u001b[39mtry\u001b[39;00m:\n\u001b[1;32m    <a href='file:///opt/python/3.9.5/lib/python3.9/site-packages/pkg_resources/__init__.py?line=354'>355</a>\u001b[0m     module \u001b[39m=\u001b[39m sys\u001b[39m.\u001b[39mmodules[moduleOrReq]\n",
      "File \u001b[0;32m/opt/python/3.9.5/lib/python3.9/site-packages/pkg_resources/__init__.py:897\u001b[0m, in \u001b[0;36mWorkingSet.require\u001b[0;34m(self, *requirements)\u001b[0m\n\u001b[1;32m    <a href='file:///opt/python/3.9.5/lib/python3.9/site-packages/pkg_resources/__init__.py?line=887'>888</a>\u001b[0m \u001b[39mdef\u001b[39;00m \u001b[39mrequire\u001b[39m(\u001b[39mself\u001b[39m, \u001b[39m*\u001b[39mrequirements):\n\u001b[1;32m    <a href='file:///opt/python/3.9.5/lib/python3.9/site-packages/pkg_resources/__init__.py?line=888'>889</a>\u001b[0m     \u001b[39m\"\"\"Ensure that distributions matching `requirements` are activated\u001b[39;00m\n\u001b[1;32m    <a href='file:///opt/python/3.9.5/lib/python3.9/site-packages/pkg_resources/__init__.py?line=889'>890</a>\u001b[0m \n\u001b[1;32m    <a href='file:///opt/python/3.9.5/lib/python3.9/site-packages/pkg_resources/__init__.py?line=890'>891</a>\u001b[0m \u001b[39m    `requirements` must be a string or a (possibly-nested) sequence\u001b[39;00m\n\u001b[0;32m   (...)\u001b[0m\n\u001b[1;32m    <a href='file:///opt/python/3.9.5/lib/python3.9/site-packages/pkg_resources/__init__.py?line=894'>895</a>\u001b[0m \u001b[39m    included, even if they were already activated in this working set.\u001b[39;00m\n\u001b[1;32m    <a href='file:///opt/python/3.9.5/lib/python3.9/site-packages/pkg_resources/__init__.py?line=895'>896</a>\u001b[0m \u001b[39m    \"\"\"\u001b[39;00m\n\u001b[0;32m--> <a href='file:///opt/python/3.9.5/lib/python3.9/site-packages/pkg_resources/__init__.py?line=896'>897</a>\u001b[0m     needed \u001b[39m=\u001b[39m \u001b[39mself\u001b[39;49m\u001b[39m.\u001b[39;49mresolve(parse_requirements(requirements))\n\u001b[1;32m    <a href='file:///opt/python/3.9.5/lib/python3.9/site-packages/pkg_resources/__init__.py?line=898'>899</a>\u001b[0m     \u001b[39mfor\u001b[39;00m dist \u001b[39min\u001b[39;00m needed:\n\u001b[1;32m    <a href='file:///opt/python/3.9.5/lib/python3.9/site-packages/pkg_resources/__init__.py?line=899'>900</a>\u001b[0m         \u001b[39mself\u001b[39m\u001b[39m.\u001b[39madd(dist)\n",
      "File \u001b[0;32m/opt/python/3.9.5/lib/python3.9/site-packages/pkg_resources/__init__.py:783\u001b[0m, in \u001b[0;36mWorkingSet.resolve\u001b[0;34m(self, requirements, env, installer, replace_conflicting, extras)\u001b[0m\n\u001b[1;32m    <a href='file:///opt/python/3.9.5/lib/python3.9/site-packages/pkg_resources/__init__.py?line=780'>781</a>\u001b[0m         \u001b[39mif\u001b[39;00m dist \u001b[39mis\u001b[39;00m \u001b[39mNone\u001b[39;00m:\n\u001b[1;32m    <a href='file:///opt/python/3.9.5/lib/python3.9/site-packages/pkg_resources/__init__.py?line=781'>782</a>\u001b[0m             requirers \u001b[39m=\u001b[39m required_by\u001b[39m.\u001b[39mget(req, \u001b[39mNone\u001b[39;00m)\n\u001b[0;32m--> <a href='file:///opt/python/3.9.5/lib/python3.9/site-packages/pkg_resources/__init__.py?line=782'>783</a>\u001b[0m             \u001b[39mraise\u001b[39;00m DistributionNotFound(req, requirers)\n\u001b[1;32m    <a href='file:///opt/python/3.9.5/lib/python3.9/site-packages/pkg_resources/__init__.py?line=783'>784</a>\u001b[0m     to_activate\u001b[39m.\u001b[39mappend(dist)\n\u001b[1;32m    <a href='file:///opt/python/3.9.5/lib/python3.9/site-packages/pkg_resources/__init__.py?line=784'>785</a>\u001b[0m \u001b[39mif\u001b[39;00m dist \u001b[39mnot\u001b[39;00m \u001b[39min\u001b[39;00m req:\n\u001b[1;32m    <a href='file:///opt/python/3.9.5/lib/python3.9/site-packages/pkg_resources/__init__.py?line=785'>786</a>\u001b[0m     \u001b[39m# Oops, the \"best\" so far conflicts with a dependency\u001b[39;00m\n",
      "\u001b[0;31mDistributionNotFound\u001b[0m: The 'google-cloud-bigquery-storage' distribution was not found and is required by the application"
     ]
    }
   ],
   "source": [
    "#!pip3 freeze > \"../requirements.txt\"\n",
    "#!pip3 install -r \"../requirements.txt\"  # giving some error\n",
    "from google.cloud import bigquery\n",
    "import pandas as pd\n",
    "import numpy as np\n",
    "import pandas_gbq\n",
    "import copy\n",
    "import time\n",
    "import pickle\n",
    "import datetime as dt\n",
    "from datetime import timezone\n",
    "from sklearn.preprocessing import StandardScaler\n",
    "from sklearn.impute import KNNImputer\n",
    "from sklearn.cluster import KMeans\n",
    "from pins import board_rsconnect\n",
    "from collections import Counter\n",
    "\n",
    "pd.set_option('display.max_rows', 500)\n",
    "pd.set_option('display.max_columns', 500) \n"
   ]
  },
  {
   "cell_type": "code",
   "execution_count": 2,
   "id": "d2529cce",
   "metadata": {},
   "outputs": [],
   "source": [
    "def GBQ_data(query_string):\n",
    "    client = bigquery.Client('turing-230020')\n",
    "    query = client.query(query_string)\n",
    "    results = query.result()\n",
    "    return results.to_dataframe()\n",
    "\n",
    "# given skill/combination of skills in iterable object \n",
    "# these function return total numbers of developers are cluster distribution in a series format\n",
    "\n",
    "def avs_supply_passed_mcq(skill):\n",
    "    temp_data = dev_data                            \n",
    "    for s in skill:\n",
    "        temp_data = temp_data.loc[temp_data['passed_skill_id_set'].apply(lambda x:s in x)]\n",
    "    return temp_data['cluster_label'].value_counts().append(pd.Series(temp_data.shape[0], index = ['total_devs']))\n",
    "\n",
    "def avs_supply_self_skill(skill):\n",
    "    temp_data = dev_data                            \n",
    "    for s in skill:\n",
    "        temp_data = temp_data.loc[temp_data['self_skill_id_set'].apply(lambda x:s in x)]\n",
    "    return temp_data['cluster_label'].value_counts().append(pd.Series(temp_data.shape[0], index = ['total_devs']))\n",
    "\n",
    "#print('\\n Showing total number of developers for a given skill using above function')\n",
    "#avs_supply_passed_mcq([120])"
   ]
  },
  {
   "cell_type": "markdown",
   "id": "c69a985c",
   "metadata": {},
   "source": [
    "## Loading Data from GBQ/r-pins"
   ]
  },
  {
   "cell_type": "code",
   "execution_count": 3,
   "id": "800a79af",
   "metadata": {},
   "outputs": [
    {
     "name": "stdout",
     "output_type": "stream",
     "text": [
      "(8107, 3)\n",
      "(4157, 3)\n"
     ]
    }
   ],
   "source": [
    "job_mcq_must = \"\"\"with tabular_data as\n",
    "(\n",
    "SELECT \n",
    "    job.job_id, \n",
    "    job.skill_id, \n",
    "    skill.skill_name\n",
    "from `turing-230020.devdb_mirror.ms2_job_skill` job\n",
    "LEFT join `turing-230020.devdb_mirror.base_all_skills_v4` skill on job.skill_id=skill.id\n",
    "where job.job_skill_level_id=1\n",
    ")\n",
    "\n",
    "SELECT \n",
    "    job_id, \n",
    "    array_agg(distinct skill_id order by skill_id) as must_have_skill_ids,\n",
    "    array_agg(distinct skill_name order by skill_name) as must_have_skill_names \n",
    "from tabular_data \n",
    "group by 1\n",
    "\"\"\"\n",
    "\n",
    "\n",
    "job_mcq_nice = \"\"\"with tabular_data as\n",
    "(\n",
    "SELECT \n",
    "    job.job_id, \n",
    "    job.skill_id, \n",
    "    skill.skill_name\n",
    "from `turing-230020.devdb_mirror.ms2_job_skill` job\n",
    "LEFT join `turing-230020.devdb_mirror.base_all_skills_v4` skill on job.skill_id=skill.id\n",
    "where job.job_skill_level_id=2\n",
    ")\n",
    "\n",
    "SELECT \n",
    "    job_id, \n",
    "    array_agg(distinct skill_id order by skill_id) as nice_have_skill_ids,\n",
    "    array_agg(distinct skill_name order by skill_name) as nice_have_skill_names \n",
    "from tabular_data \n",
    "group by 1\n",
    "\"\"\"\n",
    "\n",
    "job_mcq_must = GBQ_data(job_mcq_must)\n",
    "job_mcq_nice = GBQ_data(job_mcq_nice)\n",
    "print(job_mcq_must.shape)\n",
    "print(job_mcq_nice.shape)\n",
    "\n",
    "job_mcq_must['must_have_skill_ids_tuple'] = job_mcq_must.must_have_skill_ids.apply(lambda x:tuple(x))\n",
    "job_mcq_nice['nice_have_skill_ids_tuple'] = job_mcq_nice.nice_have_skill_ids.apply(lambda x:tuple(x))\n",
    "job_mcq = job_mcq_must.merge(job_mcq_nice, how='outer', on='job_id')\n",
    "must_have_mcq = job_mcq_must.groupby('must_have_skill_ids_tuple').agg({'job_id':'count'}).reset_index().rename(columns={'job_id':'num jobs'})\n",
    "nice_have_mcq = job_mcq_nice.groupby('nice_have_skill_ids_tuple').agg({'job_id':'count'}).reset_index().rename(columns={'job_id':'num jobs'})"
   ]
  },
  {
   "cell_type": "markdown",
   "id": "94f19beb",
   "metadata": {},
   "source": [
    "## Loading Data from r-pin\n",
    "- devs-skill-pass-list"
   ]
  },
  {
   "cell_type": "code",
   "execution_count": 4,
   "id": "2dcd966a",
   "metadata": {},
   "outputs": [
    {
     "data": {
      "text/plain": [
       "(37466, 48)"
      ]
     },
     "execution_count": 4,
     "metadata": {},
     "output_type": "execute_result"
    }
   ],
   "source": [
    "API_KEY = 'yDAssnMUtqatxoOpyNgYVKZcXfLP3vwD' \n",
    "SERVER = 'https://rstudio-connect.turing.com/'\n",
    "board = board_rsconnect(server_url=SERVER, api_key=API_KEY)\n",
    "dev_data = board.pin_read(\"muhammad_usman/devs-skill-pass-list\")\n",
    "dev_data['last_update_availability'] = pd.to_datetime(dev_data['last_update_availability'])\n",
    "dev_data = dev_data.loc[(dev_data['num_passed_skill']>0) & (~dev_data['num_skill'].isna())]\n",
    "dev_data = dev_data.loc[(dev_data['vetting_status'].isin(['available supply','ready 2.0','passed ti','standardized resume']))].reset_index(drop=True).copy()\n",
    "dev_data['self_skill_id_list'] = dev_data.self_skill_id.apply(lambda x:list(map(int, x.split(',',-1))))\n",
    "dev_data['passed_skill_id_list'] = dev_data.passed_skill_id.apply(lambda x:list(map(int, x.replace('[', '').replace(']','').split(',',-1))))\n",
    "dev_data['passed_skill_id_set'] = dev_data.passed_skill_id_list.apply(lambda x:set(x))\n",
    "dev_data['self_skill_id_set'] = dev_data.self_skill_id_list.apply(lambda x:set(x))\n",
    "dev_data.shape"
   ]
  },
  {
   "cell_type": "code",
   "execution_count": 5,
   "id": "5629684c",
   "metadata": {},
   "outputs": [
    {
     "name": "stdout",
     "output_type": "stream",
     "text": [
      "\n",
      "383.0870726108551\n"
     ]
    }
   ],
   "source": [
    "\n",
    "## for given skill or combination of skill what supply we have \n",
    "\n",
    "# input should be what we skill/list of skills \n",
    "# sorting is not working for now some reasons, \n",
    "\n",
    "start = time.time()\n",
    "\n",
    "col_name = ['total_devs', 'Elite', 'High Quality', 'Average', 'Low Quality', 'Low Experience']\n",
    "df_passed = pd.DataFrame(columns = col_name)\n",
    "for i in must_have_mcq.index:\n",
    "    df_passed = df_passed.append(avs_supply_passed_mcq(must_have_mcq.at[i, 'must_have_skill_ids_tuple']),ignore_index=True)\n",
    "    \n",
    "df_self = pd.DataFrame(columns = col_name)\n",
    "for i in must_have_mcq.index:\n",
    "    df_self = df_self.append(avs_supply_self_skill(must_have_mcq.at[i, 'must_have_skill_ids_tuple']),ignore_index=True)\n",
    "    \n",
    "df_passed.columns = ['passed_must_have_skill '+ val for val in list(df_passed.columns)]\n",
    "df_self.columns = ['self_must_have_skill '+ val for val in list(df_self.columns)]\n",
    "df = pd.concat([df_passed,df_self], axis=1)\n",
    "df_must_have_mcq = pd.concat([must_have_mcq,df], axis=1)\n",
    "df_final_must_have = job_mcq_must[['job_id','must_have_skill_ids_tuple']].merge(df_must_have_mcq, how='left', on='must_have_skill_ids_tuple')\n",
    "job_mcq = job_mcq.merge(df_final_must_have[['job_id'] + list(df_passed.columns.append(df_self.columns))], how='left', on='job_id')\n",
    "# Grab Currrent Time After Running the Code\n",
    "end = time.time()\n",
    "#Subtract Start Time from The End Time\n",
    "total_time = end - start\n",
    "print(\"\\n\"+ str(total_time))"
   ]
  },
  {
   "cell_type": "code",
   "execution_count": null,
   "id": "57a732b6",
   "metadata": {},
   "outputs": [],
   "source": []
  },
  {
   "cell_type": "code",
   "execution_count": 6,
   "id": "251243f4",
   "metadata": {},
   "outputs": [
    {
     "name": "stdout",
     "output_type": "stream",
     "text": [
      "\n",
      "201.6934576034546\n"
     ]
    }
   ],
   "source": [
    "start = time.time()\n",
    "# Code to time run\n",
    "col_names = ['total_devs', 'Elite', 'High Quality', 'Average', 'Low Quality', 'Low Experience']\n",
    "df_passed = pd.DataFrame(columns = col_names)\n",
    "for i in nice_have_mcq.nice_have_skill_ids_tuple:\n",
    "    df_passed = df_passed.append(avs_supply_passed_mcq(i),ignore_index=True)\n",
    "    \n",
    "df_self = pd.DataFrame(columns = col_names)\n",
    "for i in nice_have_mcq.nice_have_skill_ids_tuple:\n",
    "    df_self = df_self.append(avs_supply_self_skill(i),ignore_index=True)\n",
    "    \n",
    "df_passed.columns = ['passed_nice_have_skill '+ val for val in list(df_passed.columns)]\n",
    "df_self.columns = ['self_nice_have_skill '+ val for val in list(df_self.columns)]\n",
    "df = pd.concat([df_passed,df_self], axis=1)\n",
    "df_nice_have_mcq = pd.concat([nice_have_mcq,df], axis=1)\n",
    "\n",
    "df_final_nice_have = job_mcq_nice[['job_id','nice_have_skill_ids_tuple']].merge(df_nice_have_mcq, how='left', on='nice_have_skill_ids_tuple')\n",
    "\n",
    "# Grab Currrent Time After Running the Code\n",
    "end = time.time()\n",
    "#Subtract Start Time from The End Time\n",
    "total_time = end - start\n",
    "print(\"\\n\"+ str(total_time))\n"
   ]
  },
  {
   "cell_type": "code",
   "execution_count": 7,
   "id": "bab1f959",
   "metadata": {},
   "outputs": [],
   "source": [
    "job_mcq = job_mcq.merge(df_final_nice_have[['job_id'] + list(df_passed.columns.append(df_self.columns))], how='left', on='job_id')"
   ]
  },
  {
   "cell_type": "code",
   "execution_count": 10,
   "id": "7c18f08a",
   "metadata": {},
   "outputs": [
    {
     "name": "stderr",
     "output_type": "stream",
     "text": [
      "Writing pin:\n",
      "Name: 'muhammad_usman/demand-avs-data'\n",
      "Version: 20220827T014644Z-be0e9\n"
     ]
    },
    {
     "name": "stdout",
     "output_type": "stream",
     "text": [
      "Pin muhammad_usman/demand-avs-data has been updated with shape (8115, 31)\n"
     ]
    }
   ],
   "source": [
    "API_KEY = 'yDAssnMUtqatxoOpyNgYVKZcXfLP3vwD' \n",
    "SERVER = 'https://rstudio-connect.turing.com/'\n",
    "board = board_rsconnect(server_url=SERVER, api_key=API_KEY)\n",
    "board.pin_write(job_mcq, \"muhammad_usman/demand-avs-data\", type=\"csv\")\n",
    "print(f'Pin muhammad_usman/demand-avs-data has been updated with shape {job_mcq.shape}')"
   ]
  },
  {
   "cell_type": "code",
   "execution_count": null,
   "id": "116545aa",
   "metadata": {},
   "outputs": [],
   "source": []
  },
  {
   "cell_type": "code",
   "execution_count": null,
   "id": "c8b80a3b",
   "metadata": {},
   "outputs": [],
   "source": [
    "import os\n"
   ]
  },
  {
   "cell_type": "code",
   "execution_count": 6,
   "id": "e3180136",
   "metadata": {},
   "outputs": [
    {
     "name": "stdout",
     "output_type": "stream",
     "text": [
      "Cloning into 'PDSA'...\n",
      "key_load_public: invalid format\n",
      "remote: Enumerating objects: 123, done.\u001b[K\n",
      "remote: Counting objects: 100% (123/123), done.\u001b[K\n",
      "remote: Compressing objects: 100% (69/69), done.\u001b[K\n",
      "remote: Total 123 (delta 66), reused 97 (delta 49), pack-reused 0\u001b[K\n",
      "Receiving objects: 100% (123/123), 6.01 MiB | 13.87 MiB/s, done.\n",
      "Resolving deltas: 100% (66/66), done.\n"
     ]
    }
   ],
   "source": [
    "!git clone git@github.com:TuringEnterprises/PDSA.git"
   ]
  },
  {
   "cell_type": "code",
   "execution_count": 3,
   "id": "f85f5f8d",
   "metadata": {},
   "outputs": [
    {
     "name": "stdout",
     "output_type": "stream",
     "text": [
      "/home/muhammad.usman/testuser3\n"
     ]
    }
   ],
   "source": [
    "%cd ..\n"
   ]
  },
  {
   "cell_type": "code",
   "execution_count": 4,
   "id": "779e5c7f",
   "metadata": {},
   "outputs": [
    {
     "name": "stdout",
     "output_type": "stream",
     "text": [
      "/home/muhammad.usman/testuser3\n"
     ]
    }
   ],
   "source": [
    "!pwd"
   ]
  }
 ],
 "metadata": {
  "kernelspec": {
   "display_name": "Python 3 (ipykernel)",
   "language": "python",
   "name": "python3"
  },
  "language_info": {
   "codemirror_mode": {
    "name": "ipython",
    "version": 3
   },
   "file_extension": ".py",
   "mimetype": "text/x-python",
   "name": "python",
   "nbconvert_exporter": "python",
   "pygments_lexer": "ipython3",
   "version": "3.9.5"
  }
 },
 "nbformat": 4,
 "nbformat_minor": 5
}
