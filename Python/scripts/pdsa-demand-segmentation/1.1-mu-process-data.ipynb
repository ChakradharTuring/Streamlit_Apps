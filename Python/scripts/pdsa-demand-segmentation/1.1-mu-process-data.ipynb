{
 "cells": [
  {
   "cell_type": "code",
   "execution_count": 1,
   "id": "df7f7d3e",
   "metadata": {},
   "outputs": [
    {
     "ename": "DistributionNotFound",
     "evalue": "The 'google-cloud-bigquery-storage' distribution was not found and is required by the application",
     "output_type": "error",
     "traceback": [
      "\u001b[0;31m---------------------------------------------------------------------------\u001b[0m",
      "\u001b[0;31mDistributionNotFound\u001b[0m                      Traceback (most recent call last)",
      "\u001b[1;32m/home/muhammad.usman/testuser3/pdsa-demand-segmentation/1.1-mu-process-data.ipynb Cell 1'\u001b[0m in \u001b[0;36m<cell line: 3>\u001b[0;34m()\u001b[0m\n\u001b[1;32m      <a href='vscode-notebook-cell://workbench.turing.com/home/muhammad.usman/testuser3/pdsa-demand-segmentation/1.1-mu-process-data.ipynb#ch0000000vscode-remote?line=0'>1</a>\u001b[0m \u001b[39m#!pip3 freeze > \"../requirements.txt\"\u001b[39;00m\n\u001b[1;32m      <a href='vscode-notebook-cell://workbench.turing.com/home/muhammad.usman/testuser3/pdsa-demand-segmentation/1.1-mu-process-data.ipynb#ch0000000vscode-remote?line=1'>2</a>\u001b[0m \u001b[39m#!pip3 install -r \"../requirements.txt\"  # giving some error\u001b[39;00m\n\u001b[0;32m----> <a href='vscode-notebook-cell://workbench.turing.com/home/muhammad.usman/testuser3/pdsa-demand-segmentation/1.1-mu-process-data.ipynb#ch0000000vscode-remote?line=2'>3</a>\u001b[0m \u001b[39mfrom\u001b[39;00m \u001b[39mgoogle\u001b[39;00m\u001b[39m.\u001b[39;00m\u001b[39mcloud\u001b[39;00m \u001b[39mimport\u001b[39;00m bigquery\n\u001b[1;32m      <a href='vscode-notebook-cell://workbench.turing.com/home/muhammad.usman/testuser3/pdsa-demand-segmentation/1.1-mu-process-data.ipynb#ch0000000vscode-remote?line=3'>4</a>\u001b[0m \u001b[39mimport\u001b[39;00m \u001b[39mpandas\u001b[39;00m \u001b[39mas\u001b[39;00m \u001b[39mpd\u001b[39;00m\n\u001b[1;32m      <a href='vscode-notebook-cell://workbench.turing.com/home/muhammad.usman/testuser3/pdsa-demand-segmentation/1.1-mu-process-data.ipynb#ch0000000vscode-remote?line=4'>5</a>\u001b[0m \u001b[39mimport\u001b[39;00m \u001b[39mnumpy\u001b[39;00m \u001b[39mas\u001b[39;00m \u001b[39mnp\u001b[39;00m\n",
      "File \u001b[0;32m~/.local/lib/python3.9/site-packages/google/cloud/bigquery/__init__.py:35\u001b[0m, in \u001b[0;36m<module>\u001b[0;34m\u001b[0m\n\u001b[1;32m     <a href='file:///home/muhammad.usman/.local/lib/python3.9/site-packages/google/cloud/bigquery/__init__.py?line=30'>31</a>\u001b[0m \u001b[39mfrom\u001b[39;00m \u001b[39mgoogle\u001b[39;00m\u001b[39m.\u001b[39;00m\u001b[39mcloud\u001b[39;00m\u001b[39m.\u001b[39;00m\u001b[39mbigquery\u001b[39;00m \u001b[39mimport\u001b[39;00m version \u001b[39mas\u001b[39;00m bigquery_version\n\u001b[1;32m     <a href='file:///home/muhammad.usman/.local/lib/python3.9/site-packages/google/cloud/bigquery/__init__.py?line=32'>33</a>\u001b[0m __version__ \u001b[39m=\u001b[39m bigquery_version\u001b[39m.\u001b[39m__version__\n\u001b[0;32m---> <a href='file:///home/muhammad.usman/.local/lib/python3.9/site-packages/google/cloud/bigquery/__init__.py?line=34'>35</a>\u001b[0m \u001b[39mfrom\u001b[39;00m \u001b[39mgoogle\u001b[39;00m\u001b[39m.\u001b[39;00m\u001b[39mcloud\u001b[39;00m\u001b[39m.\u001b[39;00m\u001b[39mbigquery\u001b[39;00m\u001b[39m.\u001b[39;00m\u001b[39mclient\u001b[39;00m \u001b[39mimport\u001b[39;00m Client\n\u001b[1;32m     <a href='file:///home/muhammad.usman/.local/lib/python3.9/site-packages/google/cloud/bigquery/__init__.py?line=35'>36</a>\u001b[0m \u001b[39mfrom\u001b[39;00m \u001b[39mgoogle\u001b[39;00m\u001b[39m.\u001b[39;00m\u001b[39mcloud\u001b[39;00m\u001b[39m.\u001b[39;00m\u001b[39mbigquery\u001b[39;00m\u001b[39m.\u001b[39;00m\u001b[39mdataset\u001b[39;00m \u001b[39mimport\u001b[39;00m AccessEntry\n\u001b[1;32m     <a href='file:///home/muhammad.usman/.local/lib/python3.9/site-packages/google/cloud/bigquery/__init__.py?line=36'>37</a>\u001b[0m \u001b[39mfrom\u001b[39;00m \u001b[39mgoogle\u001b[39;00m\u001b[39m.\u001b[39;00m\u001b[39mcloud\u001b[39;00m\u001b[39m.\u001b[39;00m\u001b[39mbigquery\u001b[39;00m\u001b[39m.\u001b[39;00m\u001b[39mdataset\u001b[39;00m \u001b[39mimport\u001b[39;00m Dataset\n",
      "File \u001b[0;32m~/.local/lib/python3.9/site-packages/google/cloud/bigquery/client.py:59\u001b[0m, in \u001b[0;36m<module>\u001b[0;34m\u001b[0m\n\u001b[1;32m     <a href='file:///home/muhammad.usman/.local/lib/python3.9/site-packages/google/cloud/bigquery/client.py?line=56'>57</a>\u001b[0m \u001b[39mfrom\u001b[39;00m \u001b[39mgoogle\u001b[39;00m\u001b[39m.\u001b[39;00m\u001b[39mcloud\u001b[39;00m \u001b[39mimport\u001b[39;00m exceptions  \u001b[39m# pytype: disable=import-error\u001b[39;00m\n\u001b[1;32m     <a href='file:///home/muhammad.usman/.local/lib/python3.9/site-packages/google/cloud/bigquery/client.py?line=57'>58</a>\u001b[0m \u001b[39mfrom\u001b[39;00m \u001b[39mgoogle\u001b[39;00m\u001b[39m.\u001b[39;00m\u001b[39mcloud\u001b[39;00m\u001b[39m.\u001b[39;00m\u001b[39mclient\u001b[39;00m \u001b[39mimport\u001b[39;00m ClientWithProject  \u001b[39m# type: ignore  # pytype: disable=import-error\u001b[39;00m\n\u001b[0;32m---> <a href='file:///home/muhammad.usman/.local/lib/python3.9/site-packages/google/cloud/bigquery/client.py?line=58'>59</a>\u001b[0m \u001b[39mfrom\u001b[39;00m \u001b[39mgoogle\u001b[39;00m\u001b[39m.\u001b[39;00m\u001b[39mcloud\u001b[39;00m\u001b[39m.\u001b[39;00m\u001b[39mbigquery_storage_v1\u001b[39;00m\u001b[39m.\u001b[39;00m\u001b[39mservices\u001b[39;00m\u001b[39m.\u001b[39;00m\u001b[39mbig_query_read\u001b[39;00m\u001b[39m.\u001b[39;00m\u001b[39mclient\u001b[39;00m \u001b[39mimport\u001b[39;00m (\n\u001b[1;32m     <a href='file:///home/muhammad.usman/.local/lib/python3.9/site-packages/google/cloud/bigquery/client.py?line=59'>60</a>\u001b[0m     DEFAULT_CLIENT_INFO \u001b[39mas\u001b[39;00m DEFAULT_BQSTORAGE_CLIENT_INFO,\n\u001b[1;32m     <a href='file:///home/muhammad.usman/.local/lib/python3.9/site-packages/google/cloud/bigquery/client.py?line=60'>61</a>\u001b[0m )\n\u001b[1;32m     <a href='file:///home/muhammad.usman/.local/lib/python3.9/site-packages/google/cloud/bigquery/client.py?line=62'>63</a>\u001b[0m \u001b[39mfrom\u001b[39;00m \u001b[39mgoogle\u001b[39;00m\u001b[39m.\u001b[39;00m\u001b[39mcloud\u001b[39;00m\u001b[39m.\u001b[39;00m\u001b[39mbigquery\u001b[39;00m \u001b[39mimport\u001b[39;00m _job_helpers\n\u001b[1;32m     <a href='file:///home/muhammad.usman/.local/lib/python3.9/site-packages/google/cloud/bigquery/client.py?line=63'>64</a>\u001b[0m \u001b[39mfrom\u001b[39;00m \u001b[39mgoogle\u001b[39;00m\u001b[39m.\u001b[39;00m\u001b[39mcloud\u001b[39;00m\u001b[39m.\u001b[39;00m\u001b[39mbigquery\u001b[39;00m\u001b[39m.\u001b[39;00m\u001b[39m_job_helpers\u001b[39;00m \u001b[39mimport\u001b[39;00m make_job_id \u001b[39mas\u001b[39;00m _make_job_id\n",
      "File \u001b[0;32m~/.local/lib/python3.9/site-packages/google/cloud/bigquery_storage_v1/__init__.py:21\u001b[0m, in \u001b[0;36m<module>\u001b[0;34m\u001b[0m\n\u001b[1;32m     <a href='file:///home/muhammad.usman/.local/lib/python3.9/site-packages/google/cloud/bigquery_storage_v1/__init__.py?line=16'>17</a>\u001b[0m \u001b[39mfrom\u001b[39;00m \u001b[39m__future__\u001b[39;00m \u001b[39mimport\u001b[39;00m absolute_import\n\u001b[1;32m     <a href='file:///home/muhammad.usman/.local/lib/python3.9/site-packages/google/cloud/bigquery_storage_v1/__init__.py?line=18'>19</a>\u001b[0m \u001b[39mimport\u001b[39;00m \u001b[39mpkg_resources\u001b[39;00m\n\u001b[0;32m---> <a href='file:///home/muhammad.usman/.local/lib/python3.9/site-packages/google/cloud/bigquery_storage_v1/__init__.py?line=20'>21</a>\u001b[0m __version__ \u001b[39m=\u001b[39m pkg_resources\u001b[39m.\u001b[39;49mget_distribution(\n\u001b[1;32m     <a href='file:///home/muhammad.usman/.local/lib/python3.9/site-packages/google/cloud/bigquery_storage_v1/__init__.py?line=21'>22</a>\u001b[0m     \u001b[39m\"\u001b[39;49m\u001b[39mgoogle-cloud-bigquery-storage\u001b[39;49m\u001b[39m\"\u001b[39;49m\n\u001b[1;32m     <a href='file:///home/muhammad.usman/.local/lib/python3.9/site-packages/google/cloud/bigquery_storage_v1/__init__.py?line=22'>23</a>\u001b[0m )\u001b[39m.\u001b[39mversion  \u001b[39m# noqa\u001b[39;00m\n\u001b[1;32m     <a href='file:///home/muhammad.usman/.local/lib/python3.9/site-packages/google/cloud/bigquery_storage_v1/__init__.py?line=24'>25</a>\u001b[0m \u001b[39mfrom\u001b[39;00m \u001b[39mgoogle\u001b[39;00m\u001b[39m.\u001b[39;00m\u001b[39mcloud\u001b[39;00m\u001b[39m.\u001b[39;00m\u001b[39mbigquery_storage_v1\u001b[39;00m \u001b[39mimport\u001b[39;00m client\n\u001b[1;32m     <a href='file:///home/muhammad.usman/.local/lib/python3.9/site-packages/google/cloud/bigquery_storage_v1/__init__.py?line=25'>26</a>\u001b[0m \u001b[39mfrom\u001b[39;00m \u001b[39mgoogle\u001b[39;00m\u001b[39m.\u001b[39;00m\u001b[39mcloud\u001b[39;00m\u001b[39m.\u001b[39;00m\u001b[39mbigquery_storage_v1\u001b[39;00m \u001b[39mimport\u001b[39;00m types\n",
      "File \u001b[0;32m/opt/python/3.9.5/lib/python3.9/site-packages/pkg_resources/__init__.py:477\u001b[0m, in \u001b[0;36mget_distribution\u001b[0;34m(dist)\u001b[0m\n\u001b[1;32m    <a href='file:///opt/python/3.9.5/lib/python3.9/site-packages/pkg_resources/__init__.py?line=474'>475</a>\u001b[0m     dist \u001b[39m=\u001b[39m Requirement\u001b[39m.\u001b[39mparse(dist)\n\u001b[1;32m    <a href='file:///opt/python/3.9.5/lib/python3.9/site-packages/pkg_resources/__init__.py?line=475'>476</a>\u001b[0m \u001b[39mif\u001b[39;00m \u001b[39misinstance\u001b[39m(dist, Requirement):\n\u001b[0;32m--> <a href='file:///opt/python/3.9.5/lib/python3.9/site-packages/pkg_resources/__init__.py?line=476'>477</a>\u001b[0m     dist \u001b[39m=\u001b[39m get_provider(dist)\n\u001b[1;32m    <a href='file:///opt/python/3.9.5/lib/python3.9/site-packages/pkg_resources/__init__.py?line=477'>478</a>\u001b[0m \u001b[39mif\u001b[39;00m \u001b[39mnot\u001b[39;00m \u001b[39misinstance\u001b[39m(dist, Distribution):\n\u001b[1;32m    <a href='file:///opt/python/3.9.5/lib/python3.9/site-packages/pkg_resources/__init__.py?line=478'>479</a>\u001b[0m     \u001b[39mraise\u001b[39;00m \u001b[39mTypeError\u001b[39;00m(\u001b[39m\"\u001b[39m\u001b[39mExpected string, Requirement, or Distribution\u001b[39m\u001b[39m\"\u001b[39m, dist)\n",
      "File \u001b[0;32m/opt/python/3.9.5/lib/python3.9/site-packages/pkg_resources/__init__.py:353\u001b[0m, in \u001b[0;36mget_provider\u001b[0;34m(moduleOrReq)\u001b[0m\n\u001b[1;32m    <a href='file:///opt/python/3.9.5/lib/python3.9/site-packages/pkg_resources/__init__.py?line=350'>351</a>\u001b[0m \u001b[39m\"\"\"Return an IResourceProvider for the named module or requirement\"\"\"\u001b[39;00m\n\u001b[1;32m    <a href='file:///opt/python/3.9.5/lib/python3.9/site-packages/pkg_resources/__init__.py?line=351'>352</a>\u001b[0m \u001b[39mif\u001b[39;00m \u001b[39misinstance\u001b[39m(moduleOrReq, Requirement):\n\u001b[0;32m--> <a href='file:///opt/python/3.9.5/lib/python3.9/site-packages/pkg_resources/__init__.py?line=352'>353</a>\u001b[0m     \u001b[39mreturn\u001b[39;00m working_set\u001b[39m.\u001b[39mfind(moduleOrReq) \u001b[39mor\u001b[39;00m require(\u001b[39mstr\u001b[39;49m(moduleOrReq))[\u001b[39m0\u001b[39m]\n\u001b[1;32m    <a href='file:///opt/python/3.9.5/lib/python3.9/site-packages/pkg_resources/__init__.py?line=353'>354</a>\u001b[0m \u001b[39mtry\u001b[39;00m:\n\u001b[1;32m    <a href='file:///opt/python/3.9.5/lib/python3.9/site-packages/pkg_resources/__init__.py?line=354'>355</a>\u001b[0m     module \u001b[39m=\u001b[39m sys\u001b[39m.\u001b[39mmodules[moduleOrReq]\n",
      "File \u001b[0;32m/opt/python/3.9.5/lib/python3.9/site-packages/pkg_resources/__init__.py:897\u001b[0m, in \u001b[0;36mWorkingSet.require\u001b[0;34m(self, *requirements)\u001b[0m\n\u001b[1;32m    <a href='file:///opt/python/3.9.5/lib/python3.9/site-packages/pkg_resources/__init__.py?line=887'>888</a>\u001b[0m \u001b[39mdef\u001b[39;00m \u001b[39mrequire\u001b[39m(\u001b[39mself\u001b[39m, \u001b[39m*\u001b[39mrequirements):\n\u001b[1;32m    <a href='file:///opt/python/3.9.5/lib/python3.9/site-packages/pkg_resources/__init__.py?line=888'>889</a>\u001b[0m     \u001b[39m\"\"\"Ensure that distributions matching `requirements` are activated\u001b[39;00m\n\u001b[1;32m    <a href='file:///opt/python/3.9.5/lib/python3.9/site-packages/pkg_resources/__init__.py?line=889'>890</a>\u001b[0m \n\u001b[1;32m    <a href='file:///opt/python/3.9.5/lib/python3.9/site-packages/pkg_resources/__init__.py?line=890'>891</a>\u001b[0m \u001b[39m    `requirements` must be a string or a (possibly-nested) sequence\u001b[39;00m\n\u001b[0;32m   (...)\u001b[0m\n\u001b[1;32m    <a href='file:///opt/python/3.9.5/lib/python3.9/site-packages/pkg_resources/__init__.py?line=894'>895</a>\u001b[0m \u001b[39m    included, even if they were already activated in this working set.\u001b[39;00m\n\u001b[1;32m    <a href='file:///opt/python/3.9.5/lib/python3.9/site-packages/pkg_resources/__init__.py?line=895'>896</a>\u001b[0m \u001b[39m    \"\"\"\u001b[39;00m\n\u001b[0;32m--> <a href='file:///opt/python/3.9.5/lib/python3.9/site-packages/pkg_resources/__init__.py?line=896'>897</a>\u001b[0m     needed \u001b[39m=\u001b[39m \u001b[39mself\u001b[39;49m\u001b[39m.\u001b[39;49mresolve(parse_requirements(requirements))\n\u001b[1;32m    <a href='file:///opt/python/3.9.5/lib/python3.9/site-packages/pkg_resources/__init__.py?line=898'>899</a>\u001b[0m     \u001b[39mfor\u001b[39;00m dist \u001b[39min\u001b[39;00m needed:\n\u001b[1;32m    <a href='file:///opt/python/3.9.5/lib/python3.9/site-packages/pkg_resources/__init__.py?line=899'>900</a>\u001b[0m         \u001b[39mself\u001b[39m\u001b[39m.\u001b[39madd(dist)\n",
      "File \u001b[0;32m/opt/python/3.9.5/lib/python3.9/site-packages/pkg_resources/__init__.py:783\u001b[0m, in \u001b[0;36mWorkingSet.resolve\u001b[0;34m(self, requirements, env, installer, replace_conflicting, extras)\u001b[0m\n\u001b[1;32m    <a href='file:///opt/python/3.9.5/lib/python3.9/site-packages/pkg_resources/__init__.py?line=780'>781</a>\u001b[0m         \u001b[39mif\u001b[39;00m dist \u001b[39mis\u001b[39;00m \u001b[39mNone\u001b[39;00m:\n\u001b[1;32m    <a href='file:///opt/python/3.9.5/lib/python3.9/site-packages/pkg_resources/__init__.py?line=781'>782</a>\u001b[0m             requirers \u001b[39m=\u001b[39m required_by\u001b[39m.\u001b[39mget(req, \u001b[39mNone\u001b[39;00m)\n\u001b[0;32m--> <a href='file:///opt/python/3.9.5/lib/python3.9/site-packages/pkg_resources/__init__.py?line=782'>783</a>\u001b[0m             \u001b[39mraise\u001b[39;00m DistributionNotFound(req, requirers)\n\u001b[1;32m    <a href='file:///opt/python/3.9.5/lib/python3.9/site-packages/pkg_resources/__init__.py?line=783'>784</a>\u001b[0m     to_activate\u001b[39m.\u001b[39mappend(dist)\n\u001b[1;32m    <a href='file:///opt/python/3.9.5/lib/python3.9/site-packages/pkg_resources/__init__.py?line=784'>785</a>\u001b[0m \u001b[39mif\u001b[39;00m dist \u001b[39mnot\u001b[39;00m \u001b[39min\u001b[39;00m req:\n\u001b[1;32m    <a href='file:///opt/python/3.9.5/lib/python3.9/site-packages/pkg_resources/__init__.py?line=785'>786</a>\u001b[0m     \u001b[39m# Oops, the \"best\" so far conflicts with a dependency\u001b[39;00m\n",
      "\u001b[0;31mDistributionNotFound\u001b[0m: The 'google-cloud-bigquery-storage' distribution was not found and is required by the application"
     ]
    }
   ],
   "source": [
    "#!pip3 freeze > \"../requirements.txt\"\n",
    "#!pip3 install -r \"../requirements.txt\"  # giving some error\n",
    "from google.cloud import bigquery\n",
    "import pandas as pd\n",
    "import numpy as np\n",
    "import pandas_gbq\n",
    "import copy\n",
    "import copy\n",
    "import pickle\n",
    "import datetime as dt\n",
    "from datetime import timezone\n",
    "from sklearn.preprocessing import StandardScaler\n",
    "from sklearn.impute import KNNImputer\n",
    "from sklearn.cluster import KMeans\n",
    "from pins import board_rsconnect\n",
    "from collections import Counter\n",
    "\n",
    "pd.set_option('display.max_rows', 500)\n",
    "pd.set_option('display.max_columns', 500) \n"
   ]
  },
  {
   "cell_type": "code",
   "execution_count": 2,
   "id": "3a06b8a5",
   "metadata": {},
   "outputs": [],
   "source": [
    "def GBQ_data(query_string):\n",
    "    client = bigquery.Client('turing-230020')\n",
    "    query = client.query(query_string)\n",
    "    results = query.result()\n",
    "    return results.to_dataframe()\n"
   ]
  },
  {
   "cell_type": "code",
   "execution_count": 3,
   "id": "b10279fa",
   "metadata": {},
   "outputs": [
    {
     "ename": "NameError",
     "evalue": "name 'bigquery' is not defined",
     "output_type": "error",
     "traceback": [
      "\u001b[0;31m---------------------------------------------------------------------------\u001b[0m",
      "\u001b[0;31mNameError\u001b[0m                                 Traceback (most recent call last)",
      "\u001b[1;32m/home/muhammad.usman/testuser3/pdsa-demand-segmentation/1.1-mu-process-data.ipynb Cell 3'\u001b[0m in \u001b[0;36m<cell line: 29>\u001b[0;34m()\u001b[0m\n\u001b[1;32m      <a href='vscode-notebook-cell://workbench.turing.com/home/muhammad.usman/testuser3/pdsa-demand-segmentation/1.1-mu-process-data.ipynb#ch0000002vscode-remote?line=0'>1</a>\u001b[0m job_mcq_query \u001b[39m=\u001b[39m \u001b[39m\"\"\"\u001b[39m\u001b[39mSELECT job_id, count(distinct skill_id) as num_skills, count(distinct mcq_id) as num_mcqs,\u001b[39m\n\u001b[1;32m      <a href='vscode-notebook-cell://workbench.turing.com/home/muhammad.usman/testuser3/pdsa-demand-segmentation/1.1-mu-process-data.ipynb#ch0000002vscode-remote?line=1'>2</a>\u001b[0m \u001b[39mcount(distinct  case when job_skill_level_id=1 then skill_id else NULL end) num_must_have_skills,\u001b[39m\n\u001b[1;32m      <a href='vscode-notebook-cell://workbench.turing.com/home/muhammad.usman/testuser3/pdsa-demand-segmentation/1.1-mu-process-data.ipynb#ch0000002vscode-remote?line=2'>3</a>\u001b[0m \u001b[39mcount(distinct  case when job_skill_level_id=2 then skill_id else NULL end) num_nice_have_skills,\u001b[39m\n\u001b[0;32m   (...)\u001b[0m\n\u001b[1;32m     <a href='vscode-notebook-cell://workbench.turing.com/home/muhammad.usman/testuser3/pdsa-demand-segmentation/1.1-mu-process-data.ipynb#ch0000002vscode-remote?line=25'>26</a>\u001b[0m \u001b[39m) GROUP by 1\u001b[39m\n\u001b[1;32m     <a href='vscode-notebook-cell://workbench.turing.com/home/muhammad.usman/testuser3/pdsa-demand-segmentation/1.1-mu-process-data.ipynb#ch0000002vscode-remote?line=26'>27</a>\u001b[0m \u001b[39m\"\"\"\u001b[39m\n\u001b[0;32m---> <a href='vscode-notebook-cell://workbench.turing.com/home/muhammad.usman/testuser3/pdsa-demand-segmentation/1.1-mu-process-data.ipynb#ch0000002vscode-remote?line=28'>29</a>\u001b[0m job_mcq \u001b[39m=\u001b[39m GBQ_data(job_mcq_query)\n\u001b[1;32m     <a href='vscode-notebook-cell://workbench.turing.com/home/muhammad.usman/testuser3/pdsa-demand-segmentation/1.1-mu-process-data.ipynb#ch0000002vscode-remote?line=29'>30</a>\u001b[0m job_mcq\u001b[39m.\u001b[39mshape\n",
      "\u001b[1;32m/home/muhammad.usman/testuser3/pdsa-demand-segmentation/1.1-mu-process-data.ipynb Cell 2'\u001b[0m in \u001b[0;36mGBQ_data\u001b[0;34m(query_string)\u001b[0m\n\u001b[1;32m      <a href='vscode-notebook-cell://workbench.turing.com/home/muhammad.usman/testuser3/pdsa-demand-segmentation/1.1-mu-process-data.ipynb#ch0000001vscode-remote?line=0'>1</a>\u001b[0m \u001b[39mdef\u001b[39;00m \u001b[39mGBQ_data\u001b[39m(query_string):\n\u001b[0;32m----> <a href='vscode-notebook-cell://workbench.turing.com/home/muhammad.usman/testuser3/pdsa-demand-segmentation/1.1-mu-process-data.ipynb#ch0000001vscode-remote?line=1'>2</a>\u001b[0m     client \u001b[39m=\u001b[39m bigquery\u001b[39m.\u001b[39mClient(\u001b[39m'\u001b[39m\u001b[39mturing-230020\u001b[39m\u001b[39m'\u001b[39m)\n\u001b[1;32m      <a href='vscode-notebook-cell://workbench.turing.com/home/muhammad.usman/testuser3/pdsa-demand-segmentation/1.1-mu-process-data.ipynb#ch0000001vscode-remote?line=2'>3</a>\u001b[0m     query \u001b[39m=\u001b[39m client\u001b[39m.\u001b[39mquery(query_string)\n\u001b[1;32m      <a href='vscode-notebook-cell://workbench.turing.com/home/muhammad.usman/testuser3/pdsa-demand-segmentation/1.1-mu-process-data.ipynb#ch0000001vscode-remote?line=3'>4</a>\u001b[0m     results \u001b[39m=\u001b[39m query\u001b[39m.\u001b[39mresult()\n",
      "\u001b[0;31mNameError\u001b[0m: name 'bigquery' is not defined"
     ]
    }
   ],
   "source": [
    "job_mcq_query = \"\"\"SELECT job_id, count(distinct skill_id) as num_skills, count(distinct mcq_id) as num_mcqs,\n",
    "count(distinct  case when job_skill_level_id=1 then skill_id else NULL end) num_must_have_skills,\n",
    "count(distinct  case when job_skill_level_id=2 then skill_id else NULL end) num_nice_have_skills,\n",
    "count(distinct  case when job_skill_level_id=1 and mcq_id is not NULL then skill_id else NULL end) vet_num_must_have_skills,\n",
    "count(distinct  case when job_skill_level_id=2 and mcq_id is not NULL then skill_id else NULL end) vet_num_nice_have_skills,\n",
    "count(distinct  case when job_skill_level_id=1 and mcq_id is NULL then skill_id else NULL end) n_vet_num_must_have_skills,\n",
    "count(distinct  case when job_skill_level_id=2 and mcq_id is NULL then skill_id else NULL end) n_vet_num_nice_have_skills,\n",
    "string_agg(distinct case when job_skill_level_id=1 then cast(mcq_id as string) else null end order by case when job_skill_level_id=1 then cast(mcq_id as string) else null end) must_have_mcq_id,\n",
    "string_agg(distinct case when job_skill_level_id=2 then cast(mcq_id as string) else null end order by case when job_skill_level_id=2 then cast(mcq_id as string) else null end) nice_have_mcq_id,\n",
    "string_agg(distinct case when job_skill_level_id=1 then cast(skill_id as string) else NULL end order by case when job_skill_level_id=1 then cast(skill_id as string) else NULL end) must_have_skill_ids,\n",
    "string_agg(distinct case when job_skill_level_id=2 then cast(skill_id as string) else NULL end order by case when job_skill_level_id=2 then cast(skill_id as string) else NULL end) nice_have_skill_ids,\n",
    "string_agg(distinct case when job_skill_level_id=1 and mcq_id is null then cast(skill_id as string) else NULL end order by case when job_skill_level_id=1 and mcq_id is null then cast(skill_id as string) else NULL end) n_vet_must_have_skill_ids,\n",
    "string_agg(distinct case when job_skill_level_id=2 and mcq_id is null then cast(skill_id as string) else NULL end order by case when job_skill_level_id=2 and mcq_id is null then cast(skill_id as string) else NULL end) n_vet_nice_have_skill_ids,\n",
    "string_agg(distinct case when job_skill_level_id=1 then skill_name else NULL end) must_have_skill_names,\n",
    "string_agg(distinct case when job_skill_level_id=2 then skill_name else NULL end) nice_have_skill_names,\n",
    "string_agg(distinct case when job_skill_level_id=1 and mcq_id is not null then skill_name else NULL end) vet_must_have_skill_names,\n",
    "string_agg(distinct case when job_skill_level_id=2 and mcq_id is not null then skill_name else NULL end) vet_nice_have_skill_names,\n",
    "string_agg(distinct case when job_skill_level_id=1 and mcq_id is null then skill_name else NULL end) n_vet_must_have_skill_names,\n",
    "string_agg(distinct case when job_skill_level_id=2 and mcq_id is null then skill_name else NULL end) n_vet_nice_have_skill_names\n",
    "from(\n",
    "SELECT job.job_id, job.skill_id, job.job_skill_level_id, skill.skill_name, ch_name.challenge_name , mcq_id\n",
    "from `turing-230020.devdb_mirror.ms2_job_skill` job\n",
    "LEFT join `turing-230020.devdb_mirror.base_all_skills_v4` skill on job.skill_id=skill.id\n",
    "Left JOIN `turing-230020.devdb_mirror.dv2_skill_mcq` skill_mcq on job.skill_id=skill_mcq.skill_id\n",
    "left join `turing-230020.devdb_mirror.dv2_challenge` ch_name on skill_mcq.mcq_id=ch_name.challenge_id \n",
    ") GROUP by 1\n",
    "\"\"\"\n",
    "\n",
    "job_mcq = GBQ_data(job_mcq_query)\n",
    "job_mcq.shape"
   ]
  },
  {
   "cell_type": "code",
   "execution_count": 4,
   "id": "b8e8f9cb",
   "metadata": {},
   "outputs": [
    {
     "ename": "NameError",
     "evalue": "name 'pd' is not defined",
     "output_type": "error",
     "traceback": [
      "\u001b[0;31m---------------------------------------------------------------------------\u001b[0m",
      "\u001b[0;31mNameError\u001b[0m                                 Traceback (most recent call last)",
      "\u001b[1;32m/home/muhammad.usman/testuser3/pdsa-demand-segmentation/1.1-mu-process-data.ipynb Cell 4'\u001b[0m in \u001b[0;36m<cell line: 1>\u001b[0;34m()\u001b[0m\n\u001b[0;32m----> <a href='vscode-notebook-cell://workbench.turing.com/home/muhammad.usman/testuser3/pdsa-demand-segmentation/1.1-mu-process-data.ipynb#ch0000003vscode-remote?line=0'>1</a>\u001b[0m B1 \u001b[39m=\u001b[39m pd\u001b[39m.\u001b[39mread_csv(\u001b[39m'\u001b[39m\u001b[39mdata/must-have-passed-2022-08-15.csv\u001b[39m\u001b[39m'\u001b[39m, index_col\u001b[39m=\u001b[39m\u001b[39m0\u001b[39m)\n\u001b[1;32m      <a href='vscode-notebook-cell://workbench.turing.com/home/muhammad.usman/testuser3/pdsa-demand-segmentation/1.1-mu-process-data.ipynb#ch0000003vscode-remote?line=1'>2</a>\u001b[0m B2 \u001b[39m=\u001b[39m pd\u001b[39m.\u001b[39mread_csv(\u001b[39m'\u001b[39m\u001b[39mdata/must-have-self-2022-08-15.csv\u001b[39m\u001b[39m'\u001b[39m, index_col\u001b[39m=\u001b[39m\u001b[39m0\u001b[39m)\n\u001b[1;32m      <a href='vscode-notebook-cell://workbench.turing.com/home/muhammad.usman/testuser3/pdsa-demand-segmentation/1.1-mu-process-data.ipynb#ch0000003vscode-remote?line=2'>3</a>\u001b[0m B3 \u001b[39m=\u001b[39m pd\u001b[39m.\u001b[39mread_csv(\u001b[39m'\u001b[39m\u001b[39mdata/nice-have-passed-2022-08-15.csv\u001b[39m\u001b[39m'\u001b[39m, index_col\u001b[39m=\u001b[39m\u001b[39m0\u001b[39m)\n",
      "\u001b[0;31mNameError\u001b[0m: name 'pd' is not defined"
     ]
    }
   ],
   "source": [
    "B1 = pd.read_csv('data/must-have-passed-2022-08-15.csv', index_col=0)\n",
    "B2 = pd.read_csv('data/must-have-self-2022-08-15.csv', index_col=0)\n",
    "B3 = pd.read_csv('data/nice-have-passed-2022-08-15.csv', index_col=0)\n",
    "B4 = pd.read_csv('data/nice-have-self-2022-08-15.csv', index_col=0)\n",
    "\n",
    "B1.shape , B2.shape , B3.shape ,B4.shape"
   ]
  },
  {
   "cell_type": "code",
   "execution_count": 5,
   "id": "c7d06af5",
   "metadata": {},
   "outputs": [],
   "source": [
    "job_mcq_f = job_mcq[['job_id', 'num_skills', 'num_mcqs', 'num_must_have_skills', 'num_nice_have_skills', 'must_have_skill_ids', 'nice_have_skill_ids', 'must_have_skill_names', 'nice_have_skill_names']]\n",
    "job_mcq_f = job_mcq_f.merge(B1, how='left', on='must_have_skill_ids').merge(B2, how='left', on='must_have_skill_ids')\n",
    "job_mcq_f = job_mcq_f.merge(B3, how='left', on='nice_have_skill_ids').merge(B4, how='left', on='nice_have_skill_ids')\n",
    "job_mcq_f.loc[job_mcq_f['must_have_skill_names'].isna(), ['n_devs_must_have_mcq', 'elite_devs_must_have_mcq', 'n_devs_must_have_self', 'elite_devs_must_have_self']] = job_mcq_f.loc[job_mcq_f['must_have_skill_names'].isna(), ['n_devs_must_have_mcq', 'elite_devs_must_have_mcq', 'n_devs_must_have_self', 'elite_devs_must_have_self']].fillna(0)\n",
    "job_mcq_f.loc[job_mcq_f['nice_have_skill_names'].isna(), ['n_devs_nice_have_mcq', 'elite_devs_nice_have_mcq', 'n_devs_nice_have_self', 'elite_devs_nice_have_self']] = job_mcq_f.loc[job_mcq_f['nice_have_skill_names'].isna(), ['n_devs_nice_have_mcq', 'elite_devs_nice_have_mcq', 'n_devs_nice_have_self', 'elite_devs_nice_have_self']].fillna('No Nice have skill')\n",
    "fill_na_0 = ['n_devs_must_have_mcq', 'elite_devs_must_have_mcq', 'n_devs_must_have_self', 'elite_devs_must_have_self','n_devs_nice_have_mcq','elite_devs_nice_have_mcq','n_devs_nice_have_self','elite_devs_nice_have_self']\n",
    "job_mcq_f[fill_na_0] = job_mcq_f[fill_na_0].fillna(0)"
   ]
  },
  {
   "cell_type": "code",
   "execution_count": null,
   "id": "11852d38",
   "metadata": {},
   "outputs": [],
   "source": []
  },
  {
   "cell_type": "code",
   "execution_count": 32,
   "id": "bdfdbaf5",
   "metadata": {},
   "outputs": [],
   "source": []
  },
  {
   "cell_type": "code",
   "execution_count": 34,
   "id": "b5cfbde0",
   "metadata": {},
   "outputs": [],
   "source": []
  },
  {
   "cell_type": "code",
   "execution_count": null,
   "id": "08e29ef5",
   "metadata": {},
   "outputs": [],
   "source": []
  },
  {
   "cell_type": "code",
   "execution_count": 6,
   "id": "40a78bc5",
   "metadata": {},
   "outputs": [
    {
     "name": "stdout",
     "output_type": "stream",
     "text": [
      "(8118, 71)\n"
     ]
    },
    {
     "data": {
      "text/plain": [
       "(9414, 58)"
      ]
     },
     "execution_count": 6,
     "metadata": {},
     "output_type": "execute_result"
    }
   ],
   "source": [
    "all_turing_metrics = \"\"\"SELECT * except(rn) from (\n",
    "Select *, row_number() over(partition by job_id order by opportunity_created_date desc) as rn\n",
    "from `turing-230020.matchingmetrics.all_turing_metrics`\n",
    ") WHERE rn=1\"\"\"\n",
    "matching_metrics = GBQ_data(all_turing_metrics)\n",
    "print(matching_metrics.shape)\n",
    "\n",
    "\n",
    "ms2_job_query = \"\"\"SELECT job.*, status.status, role.role_type, pr.priority \n",
    "from `turing-230020.devdb_mirror.ms2_job` job\n",
    "left join `turing-230020.devdb_mirror.ms2_job_status` status on status.id = job.job_status_id\n",
    "left join `turing-230020.devdb_mirror.ms2_job_role_type` role on job.role_type_id = role.id\n",
    "left join `turing-230020.devdb_mirror.ms2_job_priority` pr on job.priority_id = pr.id;\"\"\"\n",
    "\n",
    "ms2_job = GBQ_data(ms2_job_query)\n",
    "ms2_job.shape"
   ]
  },
  {
   "cell_type": "code",
   "execution_count": 7,
   "id": "4e89071b",
   "metadata": {},
   "outputs": [],
   "source": [
    "job_mcq_f.head(2)\n",
    "\n",
    "metrics = ['slp_date', 'pcp_date',  'psp_date', 'ir_date', 'ih_date', 'dc_date']\n",
    "metrics_bin = ['slp_date_bin', 'pcp_date_bin',  'psp_date_bin', 'ir_date_bin', 'ih_date_bin', 'dc_date_bin']\n",
    "for col in metrics:\n",
    "    matching_metrics[col+'_bin'] = np.where(matching_metrics[col].isna(),0,1)\n",
    "    \n",
    "mm_cols = ['opportunityid', 'job_id', 'opportunity_created_date', 'client_type' , 'client_category', 'region',\n",
    "          'value', 'chosen_type', 'slp_date', 'pcp_date',  'psp_date', 'ir_date', 'ih_date', 'dc_date'] + metrics_bin\n",
    "\n",
    "ms2_job_cols = ['id', 'company', 'created_date', 'job_match_eta', 'is_deleted', 'max_acceptable_rate', 'country_id', 'customer_start_date',\n",
    "              'customer_weekly_hour_engagement', 'number_of_open_roles', 'industry', 'customer_category',\n",
    "              'company_size', 'must_have_total_years_of_experience', 'job_value', 'opportunity_status',\n",
    "               'status', 'role', 'role_type', 'priority']\n",
    "\n",
    "job_data = ms2_job[ms2_job_cols].merge(job_mcq_f, left_on='id', right_on='job_id', how='left')\n",
    "job_data = job_data.merge(matching_metrics[mm_cols], left_on='id', right_on='job_id', how='left')"
   ]
  },
  {
   "cell_type": "code",
   "execution_count": 18,
   "id": "5f1cc574",
   "metadata": {},
   "outputs": [],
   "source": [
    "ml_cat_col = ['client_type', 'client_category', 'region', 'role_type', 'priority']\n",
    "\n",
    "ml_num_col = ['num_skills', 'num_mcqs', 'num_must_have_skills', 'num_nice_have_skills',\n",
    "             'n_devs_must_have_mcq', 'n_devs_nice_have_mcq',\n",
    "                'n_devs_must_have_self', 'n_devs_nice_have_self','job_value',\n",
    "             'customer_weekly_hour_engagement', 'is_deleted']\n",
    "\n",
    "\n",
    "metric = ['dc_date_bin']\n",
    "\n",
    "ml_data = job_data[['id']+ml_cat_col+ml_num_col+metric].copy()\n",
    "ml_data_v2 = ml_data.loc[~((ml_data['dc_date_bin'].isna()) | (ml_data['num_skills'].isna())) ,].copy()\n",
    "\n"
   ]
  },
  {
   "cell_type": "code",
   "execution_count": 19,
   "id": "238c89ce",
   "metadata": {},
   "outputs": [],
   "source": [
    "ml_data_v2.to_csv('processed-data/process-data-2022-08-15.csv')"
   ]
  },
  {
   "cell_type": "code",
   "execution_count": null,
   "id": "1b119bbc",
   "metadata": {},
   "outputs": [],
   "source": []
  },
  {
   "cell_type": "code",
   "execution_count": null,
   "id": "3376692a",
   "metadata": {},
   "outputs": [],
   "source": []
  },
  {
   "cell_type": "code",
   "execution_count": null,
   "id": "ee95dc93",
   "metadata": {},
   "outputs": [],
   "source": []
  },
  {
   "cell_type": "code",
   "execution_count": null,
   "id": "cd08afbc",
   "metadata": {},
   "outputs": [],
   "source": []
  },
  {
   "cell_type": "code",
   "execution_count": null,
   "id": "baba2920",
   "metadata": {},
   "outputs": [],
   "source": []
  },
  {
   "cell_type": "code",
   "execution_count": null,
   "id": "eeec7f98",
   "metadata": {},
   "outputs": [],
   "source": []
  }
 ],
 "metadata": {
  "kernelspec": {
   "display_name": "Python 3 (ipykernel)",
   "language": "python",
   "name": "python3"
  },
  "language_info": {
   "codemirror_mode": {
    "name": "ipython",
    "version": 3
   },
   "file_extension": ".py",
   "mimetype": "text/x-python",
   "name": "python",
   "nbconvert_exporter": "python",
   "pygments_lexer": "ipython3",
   "version": "3.9.5"
  }
 },
 "nbformat": 4,
 "nbformat_minor": 5
}
